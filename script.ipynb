{
 "cells": [
  {
   "cell_type": "markdown",
   "metadata": {},
   "source": [
    "## Load features"
   ]
  },
  {
   "cell_type": "code",
   "execution_count": 155,
   "metadata": {},
   "outputs": [],
   "source": [
    "import pandas as pd\n",
    "import numpy as np\n",
    "import pickle\n",
    "import time"
   ]
  },
  {
   "cell_type": "code",
   "execution_count": 7,
   "metadata": {},
   "outputs": [],
   "source": [
    "src = 'feature/'\n",
    "files = ['seller_info_format_feature_3.csv', \n",
    "         'user_info_format_feature_3.csv', \n",
    "         'user_seller_info_format_feature_3.csv']\n",
    "# files = ['sellerInfo_Features_3.pkl', \n",
    "#          'userInfo_Features_3.pkl', \n",
    "#          'userSellerInfo_Features_3.pkl']"
   ]
  },
  {
   "cell_type": "markdown",
   "metadata": {},
   "source": [
    "### Load preprossed data and labels"
   ]
  },
  {
   "cell_type": "code",
   "execution_count": 16,
   "metadata": {},
   "outputs": [],
   "source": [
    "seller = pd.read_csv(src+files[0], index_col=0)\n",
    "user = pd.read_csv(src+files[1], index_col=0)\n",
    "user_seller = pd.read_csv(src+files[2], index_col=0)"
   ]
  },
  {
   "cell_type": "code",
   "execution_count": 210,
   "metadata": {},
   "outputs": [],
   "source": [
    "labels = pd.read_csv('data/data_format1/train_format1.csv')"
   ]
  },
  {
   "cell_type": "code",
   "execution_count": 181,
   "metadata": {},
   "outputs": [],
   "source": [
    "alitest = pd.read_csv('data/data_format1/test_format1.csv')\n",
    "alitest.drop(columns='prob', inplace=True)"
   ]
  },
  {
   "cell_type": "code",
   "execution_count": 93,
   "metadata": {
    "scrolled": true
   },
   "outputs": [
    {
     "name": "stdout",
     "output_type": "stream",
     "text": [
      "<class 'pandas.core.frame.DataFrame'>\n",
      "Int64Index: 4995 entries, 0 to 4994\n",
      "Data columns (total 24 columns):\n",
      "seller_id                    4995 non-null int64\n",
      "sellerTotalAction_0          4995 non-null float64\n",
      "sellerTotalAction_1          4995 non-null float64\n",
      "sellerTotalAction_2          4995 non-null float64\n",
      "sellerTotalAction_3          4995 non-null float64\n",
      "sellerTotalAction            4995 non-null float64\n",
      "sellerTotalAction_0_ratio    4995 non-null float64\n",
      "sellerTotalAction_1_ratio    4995 non-null float64\n",
      "sellerTotalAction_3_ratio    4995 non-null float64\n",
      "item_number                  4995 non-null float64\n",
      "cat_number                   4995 non-null float64\n",
      "brand_number                 4995 non-null float64\n",
      "item_ratio                   4995 non-null float64\n",
      "cat_ratio                    4995 non-null float64\n",
      "brand_ratio                  4995 non-null float64\n",
      "seller_peopleNum_0           4995 non-null float64\n",
      "seller_peopleNum_1           4995 non-null float64\n",
      "seller_peopleNum_2           4995 non-null float64\n",
      "seller_peopleNum_3           4995 non-null float64\n",
      "click_people_ratio           4995 non-null float64\n",
      "add_people_ratio             4995 non-null float64\n",
      "buy_people_ratio             4995 non-null float64\n",
      "save_people_ratio            4995 non-null float64\n",
      "repeatBuy_peopleNumber       4995 non-null float64\n",
      "dtypes: float64(23), int64(1)\n",
      "memory usage: 975.6 KB\n"
     ]
    }
   ],
   "source": [
    "seller.info()"
   ]
  },
  {
   "cell_type": "code",
   "execution_count": 24,
   "metadata": {
    "scrolled": true
   },
   "outputs": [],
   "source": [
    "user['gender'] = user['gender'].astype('int8')"
   ]
  },
  {
   "cell_type": "markdown",
   "metadata": {},
   "source": [
    "### Join tables and sperate features alone"
   ]
  },
  {
   "cell_type": "code",
   "execution_count": 205,
   "metadata": {},
   "outputs": [],
   "source": [
    "all_data = pd.merge(user_seller, user, on='user_id')\n",
    "all_data = pd.merge(all_data, seller, on='seller_id')"
   ]
  },
  {
   "cell_type": "code",
   "execution_count": 206,
   "metadata": {},
   "outputs": [
    {
     "name": "stdout",
     "output_type": "stream",
     "text": [
      "<class 'pandas.core.frame.DataFrame'>\n",
      "Int64Index: 522341 entries, 0 to 522340\n",
      "Columns: 125 entries, user_id to repeatBuy_peopleNumber\n",
      "dtypes: float64(112), int64(12), int8(1)\n",
      "memory usage: 498.6 MB\n"
     ]
    }
   ],
   "source": [
    "all_data.info()"
   ]
  },
  {
   "cell_type": "code",
   "execution_count": 217,
   "metadata": {},
   "outputs": [],
   "source": [
    "train_data = pd.merge(all_data, \n",
    "                    labels, \n",
    "                    left_on=['user_id', 'seller_id'], \n",
    "                    right_on=['user_id', 'merchant_id'])"
   ]
  },
  {
   "cell_type": "code",
   "execution_count": 218,
   "metadata": {},
   "outputs": [],
   "source": [
    "test_data = pd.merge(alitest, \n",
    "                     all_data, \n",
    "                     left_on=['user_id', 'merchant_id'], \n",
    "                     right_on=['user_id', 'seller_id'])"
   ]
  },
  {
   "cell_type": "code",
   "execution_count": 219,
   "metadata": {},
   "outputs": [],
   "source": [
    "train_data = train_data.drop(columns=['merchant_id'])\n",
    "test_data = test_data.drop(columns=['merchant_id'])\n",
    "train_data.to_csv(src+'train_data_merged.csv')\n",
    "test_data.to_csv(src+'test_data_merged.csv')"
   ]
  },
  {
   "cell_type": "code",
   "execution_count": 116,
   "metadata": {},
   "outputs": [
    {
     "name": "stdout",
     "output_type": "stream",
     "text": [
      "<class 'pandas.core.frame.DataFrame'>\n",
      "Int64Index: 261477 entries, 0 to 261476\n",
      "Columns: 125 entries, user_id to repeatBuy_peopleNumber\n",
      "dtypes: float64(112), int64(12), int8(1)\n",
      "memory usage: 249.6 MB\n"
     ]
    }
   ],
   "source": [
    "test_data.info()"
   ]
  },
  {
   "cell_type": "code",
   "execution_count": 220,
   "metadata": {},
   "outputs": [],
   "source": [
    "train_features = train_data.drop(columns=['user_id', 'seller_id', 'label'])\n",
    "test_features = test_data.drop(columns=['user_id', 'seller_id'])"
   ]
  },
  {
   "cell_type": "code",
   "execution_count": 118,
   "metadata": {
    "scrolled": true
   },
   "outputs": [
    {
     "name": "stdout",
     "output_type": "stream",
     "text": [
      "<class 'pandas.core.frame.DataFrame'>\n",
      "Int64Index: 260864 entries, 0 to 260863\n",
      "Columns: 123 entries, userSellerAction_0 to repeatBuy_peopleNumber\n",
      "dtypes: float64(112), int64(10), int8(1)\n",
      "memory usage: 245.0 MB\n"
     ]
    }
   ],
   "source": [
    "train_features.info()"
   ]
  },
  {
   "cell_type": "markdown",
   "metadata": {},
   "source": [
    "## Create trainset and testset"
   ]
  },
  {
   "cell_type": "code",
   "execution_count": 46,
   "metadata": {},
   "outputs": [],
   "source": [
    "from sklearn.model_selection import train_test_split"
   ]
  },
  {
   "cell_type": "code",
   "execution_count": 221,
   "metadata": {},
   "outputs": [],
   "source": [
    "X_train, X_test, y_train, y_test = train_test_split(train_features, \n",
    "                                                    train_data['label'], \n",
    "                                                    test_size=0.33, \n",
    "                                                    random_state=42)"
   ]
  },
  {
   "cell_type": "markdown",
   "metadata": {},
   "source": [
    "## Train classifiers"
   ]
  },
  {
   "cell_type": "code",
   "execution_count": 139,
   "metadata": {},
   "outputs": [],
   "source": [
    "from sklearn.metrics import accuracy_score\n",
    "from sklearn.metrics import roc_auc_score\n",
    "from sklearn.metrics import classification_report"
   ]
  },
  {
   "cell_type": "markdown",
   "metadata": {},
   "source": [
    "### Logistic Regression"
   ]
  },
  {
   "cell_type": "code",
   "execution_count": 72,
   "metadata": {},
   "outputs": [],
   "source": [
    "from sklearn.linear_model import LogisticRegression"
   ]
  },
  {
   "cell_type": "code",
   "execution_count": 189,
   "metadata": {},
   "outputs": [],
   "source": [
    "lr = LogisticRegression(penalty='l2', \n",
    "                        dual=False, \n",
    "                        tol=0.0001, \n",
    "                        C=1.0, \n",
    "                        fit_intercept=True, \n",
    "                        intercept_scaling=1, \n",
    "                        class_weight=None,\n",
    "                        random_state=None, \n",
    "                        solver='lbfgs', \n",
    "                        max_iter=100, \n",
    "                        multi_class='ovr', \n",
    "                        verbose=0, \n",
    "                        warm_start=False,\n",
    "                        n_jobs=None)"
   ]
  },
  {
   "cell_type": "code",
   "execution_count": 222,
   "metadata": {},
   "outputs": [
    {
     "name": "stdout",
     "output_type": "stream",
     "text": [
      "0.938631136305555\n",
      "The program took 2.7695624828338623 seconds.\n"
     ]
    },
    {
     "name": "stderr",
     "output_type": "stream",
     "text": [
      "C:\\Users\\ZJUSO\\.conda\\envs\\influ\\lib\\site-packages\\sklearn\\linear_model\\logistic.py:757: ConvergenceWarning: lbfgs failed to converge. Increase the number of iterations.\n",
      "  \"of iterations.\", ConvergenceWarning)\n"
     ]
    }
   ],
   "source": [
    "start = time.time()\n",
    "lr.fit(X_train, y_train)\n",
    "print(lr.score(X_test, y_test))\n",
    "end = time.time()\n",
    "print('The program took %s seconds.' % (end-start))"
   ]
  },
  {
   "cell_type": "markdown",
   "metadata": {},
   "source": [
    "#### Train for ali testset"
   ]
  },
  {
   "cell_type": "code",
   "execution_count": 79,
   "metadata": {},
   "outputs": [
    {
     "data": {
      "text/plain": [
       "array([0, 1], dtype=int64)"
      ]
     },
     "execution_count": 79,
     "metadata": {},
     "output_type": "execute_result"
    }
   ],
   "source": [
    "lr.classes_"
   ]
  },
  {
   "cell_type": "code",
   "execution_count": 223,
   "metadata": {},
   "outputs": [
    {
     "name": "stderr",
     "output_type": "stream",
     "text": [
      "C:\\Users\\ZJUSO\\.conda\\envs\\influ\\lib\\site-packages\\sklearn\\linear_model\\logistic.py:757: ConvergenceWarning: lbfgs failed to converge. Increase the number of iterations.\n",
      "  \"of iterations.\", ConvergenceWarning)\n"
     ]
    },
    {
     "data": {
      "text/plain": [
       "0.9388225282139352"
      ]
     },
     "execution_count": 223,
     "metadata": {},
     "output_type": "execute_result"
    }
   ],
   "source": [
    "lr.fit(train_features, train_data['label'])\n",
    "lr.score(train_features, train_data['label'])"
   ]
  },
  {
   "cell_type": "code",
   "execution_count": 227,
   "metadata": {},
   "outputs": [],
   "source": [
    "test_features = test_features.drop(columns=['prob'])"
   ]
  },
  {
   "cell_type": "code",
   "execution_count": 228,
   "metadata": {},
   "outputs": [],
   "source": [
    "prob = lr.predict_proba(test_features)"
   ]
  },
  {
   "cell_type": "code",
   "execution_count": 229,
   "metadata": {},
   "outputs": [],
   "source": [
    "alitest.drop(columns='prob', inplace=True)\n",
    "alitest.insert(2, 'prob', prob[:,1])\n",
    "alitest.to_csv('data/submission_1229_logireg.csv', index=False)"
   ]
  },
  {
   "cell_type": "markdown",
   "metadata": {},
   "source": [
    "### SVM"
   ]
  },
  {
   "cell_type": "code",
   "execution_count": 140,
   "metadata": {},
   "outputs": [],
   "source": [
    "from sklearn.svm import LinearSVC"
   ]
  },
  {
   "cell_type": "code",
   "execution_count": 248,
   "metadata": {},
   "outputs": [],
   "source": [
    "svm = LinearSVC(penalty='l2', \n",
    "                loss='squared_hinge', \n",
    "                dual=True,\n",
    "                tol=0.0001, \n",
    "                C=1.0, \n",
    "                multi_class='ovr',\n",
    "                fit_intercept=True, \n",
    "                intercept_scaling=1, \n",
    "                class_weight=None, \n",
    "                verbose=1, \n",
    "                random_state=100, \n",
    "                max_iter=1000)"
   ]
  },
  {
   "cell_type": "code",
   "execution_count": 195,
   "metadata": {},
   "outputs": [
    {
     "name": "stdout",
     "output_type": "stream",
     "text": [
      "[LibLinear]The program took 84.6403968334198 seconds.\n"
     ]
    },
    {
     "name": "stderr",
     "output_type": "stream",
     "text": [
      "C:\\Users\\ZJUSO\\.conda\\envs\\influ\\lib\\site-packages\\sklearn\\svm\\base.py:922: ConvergenceWarning: Liblinear failed to converge, increase the number of iterations.\n",
      "  \"the number of iterations.\", ConvergenceWarning)\n"
     ]
    }
   ],
   "source": [
    "start = time.time()\n",
    "svm.fit(X_train, y_train)\n",
    "print(svm.score(X_test, y_test))\n",
    "end = time.time()\n",
    "print('The program took %s seconds.' % (end-start))"
   ]
  },
  {
   "cell_type": "code",
   "execution_count": 249,
   "metadata": {},
   "outputs": [],
   "source": [
    "from sklearn.calibration import CalibratedClassifierCV"
   ]
  },
  {
   "cell_type": "code",
   "execution_count": 250,
   "metadata": {},
   "outputs": [],
   "source": [
    "svmCalib = CalibratedClassifierCV(svm)"
   ]
  },
  {
   "cell_type": "code",
   "execution_count": 252,
   "metadata": {},
   "outputs": [
    {
     "name": "stderr",
     "output_type": "stream",
     "text": [
      "C:\\Users\\ZJUSO\\.conda\\envs\\influ\\lib\\site-packages\\sklearn\\model_selection\\_split.py:1943: FutureWarning: You should specify a value for 'cv' instead of relying on the default value. The default value will change from 3 to 5 in version 0.22.\n",
      "  warnings.warn(CV_WARNING, FutureWarning)\n"
     ]
    },
    {
     "name": "stdout",
     "output_type": "stream",
     "text": [
      "[LibLinear]"
     ]
    },
    {
     "name": "stderr",
     "output_type": "stream",
     "text": [
      "C:\\Users\\ZJUSO\\.conda\\envs\\influ\\lib\\site-packages\\sklearn\\svm\\base.py:922: ConvergenceWarning: Liblinear failed to converge, increase the number of iterations.\n",
      "  \"the number of iterations.\", ConvergenceWarning)\n"
     ]
    },
    {
     "name": "stdout",
     "output_type": "stream",
     "text": [
      "[LibLinear]"
     ]
    },
    {
     "name": "stderr",
     "output_type": "stream",
     "text": [
      "C:\\Users\\ZJUSO\\.conda\\envs\\influ\\lib\\site-packages\\sklearn\\svm\\base.py:922: ConvergenceWarning: Liblinear failed to converge, increase the number of iterations.\n",
      "  \"the number of iterations.\", ConvergenceWarning)\n"
     ]
    },
    {
     "name": "stdout",
     "output_type": "stream",
     "text": [
      "[LibLinear]"
     ]
    },
    {
     "name": "stderr",
     "output_type": "stream",
     "text": [
      "C:\\Users\\ZJUSO\\.conda\\envs\\influ\\lib\\site-packages\\sklearn\\svm\\base.py:922: ConvergenceWarning: Liblinear failed to converge, increase the number of iterations.\n",
      "  \"the number of iterations.\", ConvergenceWarning)\n"
     ]
    },
    {
     "name": "stdout",
     "output_type": "stream",
     "text": [
      "0.9385962874334968\n",
      "The program took 247.9711470603943 seconds.\n"
     ]
    }
   ],
   "source": [
    "start = time.time()\n",
    "svmCalib.fit(train_features, train_data['label'])\n",
    "print(svmCalib.score(X_test, y_test))\n",
    "end = time.time()\n",
    "print('The program took %s seconds.' % (end-start))"
   ]
  },
  {
   "cell_type": "code",
   "execution_count": 254,
   "metadata": {},
   "outputs": [
    {
     "data": {
      "text/plain": [
       "array([0, 1], dtype=int64)"
      ]
     },
     "execution_count": 254,
     "metadata": {},
     "output_type": "execute_result"
    }
   ],
   "source": [
    "svmCalib.classes_"
   ]
  },
  {
   "cell_type": "code",
   "execution_count": 253,
   "metadata": {},
   "outputs": [
    {
     "data": {
      "text/plain": [
       "array([[0.92941452, 0.07058548],\n",
       "       [0.92840079, 0.07159921],\n",
       "       [0.94360026, 0.05639974],\n",
       "       ...,\n",
       "       [0.92652338, 0.07347662],\n",
       "       [0.94733759, 0.05266241],\n",
       "       [0.90025799, 0.09974201]])"
      ]
     },
     "execution_count": 253,
     "metadata": {},
     "output_type": "execute_result"
    }
   ],
   "source": [
    "prob = svmCalib.predict_proba(test_features)\n",
    "# prob = prob/2 + 0.5\n",
    "prob"
   ]
  },
  {
   "cell_type": "code",
   "execution_count": 256,
   "metadata": {},
   "outputs": [],
   "source": [
    "prob = svmCalib.predict_proba(test_features)\n",
    "alitest.drop(columns='prob', inplace=True)\n",
    "alitest.insert(2, 'prob', prob[:,1])\n",
    "alitest.to_csv('data/submission_1229_LinearSVC.csv', index=False)"
   ]
  },
  {
   "cell_type": "markdown",
   "metadata": {},
   "source": [
    "### Nearest Neighbors"
   ]
  },
  {
   "cell_type": "code",
   "execution_count": 151,
   "metadata": {},
   "outputs": [],
   "source": [
    "from sklearn.neighbors import KNeighborsClassifier"
   ]
  },
  {
   "cell_type": "code",
   "execution_count": 171,
   "metadata": {},
   "outputs": [],
   "source": [
    "knn = KNeighborsClassifier(n_neighbors=5, \n",
    "                     weights='distance',\n",
    "                     algorithm='auto',\n",
    "                     p=2, \n",
    "                     metric='minkowski', \n",
    "                     metric_params=None, \n",
    "                     n_jobs=7)"
   ]
  },
  {
   "cell_type": "code",
   "execution_count": 172,
   "metadata": {
    "scrolled": true
   },
   "outputs": [
    {
     "ename": "KeyboardInterrupt",
     "evalue": "",
     "output_type": "error",
     "traceback": [
      "\u001b[1;31m---------------------------------------------------------------------------\u001b[0m",
      "\u001b[1;31mKeyboardInterrupt\u001b[0m                         Traceback (most recent call last)",
      "\u001b[1;32m<ipython-input-172-c0171e6f3115>\u001b[0m in \u001b[0;36m<module>\u001b[1;34m()\u001b[0m\n\u001b[0;32m      1\u001b[0m \u001b[0mstart\u001b[0m \u001b[1;33m=\u001b[0m \u001b[0mtime\u001b[0m\u001b[1;33m.\u001b[0m\u001b[0mtime\u001b[0m\u001b[1;33m(\u001b[0m\u001b[1;33m)\u001b[0m\u001b[1;33m\u001b[0m\u001b[0m\n\u001b[0;32m      2\u001b[0m \u001b[0mknn\u001b[0m\u001b[1;33m.\u001b[0m\u001b[0mfit\u001b[0m\u001b[1;33m(\u001b[0m\u001b[0mX_train\u001b[0m\u001b[1;33m,\u001b[0m \u001b[0my_train\u001b[0m\u001b[1;33m)\u001b[0m\u001b[1;33m\u001b[0m\u001b[0m\n\u001b[1;32m----> 3\u001b[1;33m \u001b[0mknn\u001b[0m\u001b[1;33m.\u001b[0m\u001b[0mscore\u001b[0m\u001b[1;33m(\u001b[0m\u001b[0mX_test\u001b[0m\u001b[1;33m,\u001b[0m \u001b[0my_test\u001b[0m\u001b[1;33m)\u001b[0m\u001b[1;33m\u001b[0m\u001b[0m\n\u001b[0m\u001b[0;32m      4\u001b[0m \u001b[0mend\u001b[0m \u001b[1;33m=\u001b[0m \u001b[0mtime\u001b[0m\u001b[1;33m.\u001b[0m\u001b[0mtime\u001b[0m\u001b[1;33m(\u001b[0m\u001b[1;33m)\u001b[0m\u001b[1;33m\u001b[0m\u001b[0m\n\u001b[0;32m      5\u001b[0m \u001b[0mprint\u001b[0m \u001b[1;33m(\u001b[0m\u001b[1;34m'The program took %s seconds.'\u001b[0m \u001b[1;33m%\u001b[0m \u001b[1;33m(\u001b[0m\u001b[0mend\u001b[0m\u001b[1;33m-\u001b[0m\u001b[0mstart\u001b[0m\u001b[1;33m)\u001b[0m\u001b[1;33m)\u001b[0m\u001b[1;33m\u001b[0m\u001b[0m\n",
      "\u001b[1;32m~\\.conda\\envs\\influ\\lib\\site-packages\\sklearn\\base.py\u001b[0m in \u001b[0;36mscore\u001b[1;34m(self, X, y, sample_weight)\u001b[0m\n\u001b[0;32m    286\u001b[0m         \"\"\"\n\u001b[0;32m    287\u001b[0m         \u001b[1;32mfrom\u001b[0m \u001b[1;33m.\u001b[0m\u001b[0mmetrics\u001b[0m \u001b[1;32mimport\u001b[0m \u001b[0maccuracy_score\u001b[0m\u001b[1;33m\u001b[0m\u001b[0m\n\u001b[1;32m--> 288\u001b[1;33m         \u001b[1;32mreturn\u001b[0m \u001b[0maccuracy_score\u001b[0m\u001b[1;33m(\u001b[0m\u001b[0my\u001b[0m\u001b[1;33m,\u001b[0m \u001b[0mself\u001b[0m\u001b[1;33m.\u001b[0m\u001b[0mpredict\u001b[0m\u001b[1;33m(\u001b[0m\u001b[0mX\u001b[0m\u001b[1;33m)\u001b[0m\u001b[1;33m,\u001b[0m \u001b[0msample_weight\u001b[0m\u001b[1;33m=\u001b[0m\u001b[0msample_weight\u001b[0m\u001b[1;33m)\u001b[0m\u001b[1;33m\u001b[0m\u001b[0m\n\u001b[0m\u001b[0;32m    289\u001b[0m \u001b[1;33m\u001b[0m\u001b[0m\n\u001b[0;32m    290\u001b[0m \u001b[1;33m\u001b[0m\u001b[0m\n",
      "\u001b[1;32m~\\.conda\\envs\\influ\\lib\\site-packages\\sklearn\\neighbors\\classification.py\u001b[0m in \u001b[0;36mpredict\u001b[1;34m(self, X)\u001b[0m\n\u001b[0;32m    147\u001b[0m         \u001b[0mX\u001b[0m \u001b[1;33m=\u001b[0m \u001b[0mcheck_array\u001b[0m\u001b[1;33m(\u001b[0m\u001b[0mX\u001b[0m\u001b[1;33m,\u001b[0m \u001b[0maccept_sparse\u001b[0m\u001b[1;33m=\u001b[0m\u001b[1;34m'csr'\u001b[0m\u001b[1;33m)\u001b[0m\u001b[1;33m\u001b[0m\u001b[0m\n\u001b[0;32m    148\u001b[0m \u001b[1;33m\u001b[0m\u001b[0m\n\u001b[1;32m--> 149\u001b[1;33m         \u001b[0mneigh_dist\u001b[0m\u001b[1;33m,\u001b[0m \u001b[0mneigh_ind\u001b[0m \u001b[1;33m=\u001b[0m \u001b[0mself\u001b[0m\u001b[1;33m.\u001b[0m\u001b[0mkneighbors\u001b[0m\u001b[1;33m(\u001b[0m\u001b[0mX\u001b[0m\u001b[1;33m)\u001b[0m\u001b[1;33m\u001b[0m\u001b[0m\n\u001b[0m\u001b[0;32m    150\u001b[0m         \u001b[0mclasses_\u001b[0m \u001b[1;33m=\u001b[0m \u001b[0mself\u001b[0m\u001b[1;33m.\u001b[0m\u001b[0mclasses_\u001b[0m\u001b[1;33m\u001b[0m\u001b[0m\n\u001b[0;32m    151\u001b[0m         \u001b[0m_y\u001b[0m \u001b[1;33m=\u001b[0m \u001b[0mself\u001b[0m\u001b[1;33m.\u001b[0m\u001b[0m_y\u001b[0m\u001b[1;33m\u001b[0m\u001b[0m\n",
      "\u001b[1;32m~\\.conda\\envs\\influ\\lib\\site-packages\\sklearn\\neighbors\\base.py\u001b[0m in \u001b[0;36mkneighbors\u001b[1;34m(self, X, n_neighbors, return_distance)\u001b[0m\n\u001b[0;32m    441\u001b[0m                 delayed_query(\n\u001b[0;32m    442\u001b[0m                     X[s], n_neighbors, return_distance)\n\u001b[1;32m--> 443\u001b[1;33m                 \u001b[1;32mfor\u001b[0m \u001b[0ms\u001b[0m \u001b[1;32min\u001b[0m \u001b[0mgen_even_slices\u001b[0m\u001b[1;33m(\u001b[0m\u001b[0mX\u001b[0m\u001b[1;33m.\u001b[0m\u001b[0mshape\u001b[0m\u001b[1;33m[\u001b[0m\u001b[1;36m0\u001b[0m\u001b[1;33m]\u001b[0m\u001b[1;33m,\u001b[0m \u001b[0mn_jobs\u001b[0m\u001b[1;33m)\u001b[0m\u001b[1;33m\u001b[0m\u001b[0m\n\u001b[0m\u001b[0;32m    444\u001b[0m             )\n\u001b[0;32m    445\u001b[0m         \u001b[1;32melse\u001b[0m\u001b[1;33m:\u001b[0m\u001b[1;33m\u001b[0m\u001b[0m\n",
      "\u001b[1;32m~\\.conda\\envs\\influ\\lib\\site-packages\\sklearn\\externals\\joblib\\parallel.py\u001b[0m in \u001b[0;36m__call__\u001b[1;34m(self, iterable)\u001b[0m\n\u001b[0;32m    994\u001b[0m \u001b[1;33m\u001b[0m\u001b[0m\n\u001b[0;32m    995\u001b[0m             \u001b[1;32mwith\u001b[0m \u001b[0mself\u001b[0m\u001b[1;33m.\u001b[0m\u001b[0m_backend\u001b[0m\u001b[1;33m.\u001b[0m\u001b[0mretrieval_context\u001b[0m\u001b[1;33m(\u001b[0m\u001b[1;33m)\u001b[0m\u001b[1;33m:\u001b[0m\u001b[1;33m\u001b[0m\u001b[0m\n\u001b[1;32m--> 996\u001b[1;33m                 \u001b[0mself\u001b[0m\u001b[1;33m.\u001b[0m\u001b[0mretrieve\u001b[0m\u001b[1;33m(\u001b[0m\u001b[1;33m)\u001b[0m\u001b[1;33m\u001b[0m\u001b[0m\n\u001b[0m\u001b[0;32m    997\u001b[0m             \u001b[1;31m# Make sure that we get a last message telling us we are done\u001b[0m\u001b[1;33m\u001b[0m\u001b[1;33m\u001b[0m\u001b[0m\n\u001b[0;32m    998\u001b[0m             \u001b[0melapsed_time\u001b[0m \u001b[1;33m=\u001b[0m \u001b[0mtime\u001b[0m\u001b[1;33m.\u001b[0m\u001b[0mtime\u001b[0m\u001b[1;33m(\u001b[0m\u001b[1;33m)\u001b[0m \u001b[1;33m-\u001b[0m \u001b[0mself\u001b[0m\u001b[1;33m.\u001b[0m\u001b[0m_start_time\u001b[0m\u001b[1;33m\u001b[0m\u001b[0m\n",
      "\u001b[1;32m~\\.conda\\envs\\influ\\lib\\site-packages\\sklearn\\externals\\joblib\\parallel.py\u001b[0m in \u001b[0;36mretrieve\u001b[1;34m(self)\u001b[0m\n\u001b[0;32m    897\u001b[0m             \u001b[1;32mtry\u001b[0m\u001b[1;33m:\u001b[0m\u001b[1;33m\u001b[0m\u001b[0m\n\u001b[0;32m    898\u001b[0m                 \u001b[1;32mif\u001b[0m \u001b[0mgetattr\u001b[0m\u001b[1;33m(\u001b[0m\u001b[0mself\u001b[0m\u001b[1;33m.\u001b[0m\u001b[0m_backend\u001b[0m\u001b[1;33m,\u001b[0m \u001b[1;34m'supports_timeout'\u001b[0m\u001b[1;33m,\u001b[0m \u001b[1;32mFalse\u001b[0m\u001b[1;33m)\u001b[0m\u001b[1;33m:\u001b[0m\u001b[1;33m\u001b[0m\u001b[0m\n\u001b[1;32m--> 899\u001b[1;33m                     \u001b[0mself\u001b[0m\u001b[1;33m.\u001b[0m\u001b[0m_output\u001b[0m\u001b[1;33m.\u001b[0m\u001b[0mextend\u001b[0m\u001b[1;33m(\u001b[0m\u001b[0mjob\u001b[0m\u001b[1;33m.\u001b[0m\u001b[0mget\u001b[0m\u001b[1;33m(\u001b[0m\u001b[0mtimeout\u001b[0m\u001b[1;33m=\u001b[0m\u001b[0mself\u001b[0m\u001b[1;33m.\u001b[0m\u001b[0mtimeout\u001b[0m\u001b[1;33m)\u001b[0m\u001b[1;33m)\u001b[0m\u001b[1;33m\u001b[0m\u001b[0m\n\u001b[0m\u001b[0;32m    900\u001b[0m                 \u001b[1;32melse\u001b[0m\u001b[1;33m:\u001b[0m\u001b[1;33m\u001b[0m\u001b[0m\n\u001b[0;32m    901\u001b[0m                     \u001b[0mself\u001b[0m\u001b[1;33m.\u001b[0m\u001b[0m_output\u001b[0m\u001b[1;33m.\u001b[0m\u001b[0mextend\u001b[0m\u001b[1;33m(\u001b[0m\u001b[0mjob\u001b[0m\u001b[1;33m.\u001b[0m\u001b[0mget\u001b[0m\u001b[1;33m(\u001b[0m\u001b[1;33m)\u001b[0m\u001b[1;33m)\u001b[0m\u001b[1;33m\u001b[0m\u001b[0m\n",
      "\u001b[1;32m~\\.conda\\envs\\influ\\lib\\multiprocessing\\pool.py\u001b[0m in \u001b[0;36mget\u001b[1;34m(self, timeout)\u001b[0m\n\u001b[0;32m    636\u001b[0m \u001b[1;33m\u001b[0m\u001b[0m\n\u001b[0;32m    637\u001b[0m     \u001b[1;32mdef\u001b[0m \u001b[0mget\u001b[0m\u001b[1;33m(\u001b[0m\u001b[0mself\u001b[0m\u001b[1;33m,\u001b[0m \u001b[0mtimeout\u001b[0m\u001b[1;33m=\u001b[0m\u001b[1;32mNone\u001b[0m\u001b[1;33m)\u001b[0m\u001b[1;33m:\u001b[0m\u001b[1;33m\u001b[0m\u001b[0m\n\u001b[1;32m--> 638\u001b[1;33m         \u001b[0mself\u001b[0m\u001b[1;33m.\u001b[0m\u001b[0mwait\u001b[0m\u001b[1;33m(\u001b[0m\u001b[0mtimeout\u001b[0m\u001b[1;33m)\u001b[0m\u001b[1;33m\u001b[0m\u001b[0m\n\u001b[0m\u001b[0;32m    639\u001b[0m         \u001b[1;32mif\u001b[0m \u001b[1;32mnot\u001b[0m \u001b[0mself\u001b[0m\u001b[1;33m.\u001b[0m\u001b[0mready\u001b[0m\u001b[1;33m(\u001b[0m\u001b[1;33m)\u001b[0m\u001b[1;33m:\u001b[0m\u001b[1;33m\u001b[0m\u001b[0m\n\u001b[0;32m    640\u001b[0m             \u001b[1;32mraise\u001b[0m \u001b[0mTimeoutError\u001b[0m\u001b[1;33m\u001b[0m\u001b[0m\n",
      "\u001b[1;32m~\\.conda\\envs\\influ\\lib\\multiprocessing\\pool.py\u001b[0m in \u001b[0;36mwait\u001b[1;34m(self, timeout)\u001b[0m\n\u001b[0;32m    633\u001b[0m \u001b[1;33m\u001b[0m\u001b[0m\n\u001b[0;32m    634\u001b[0m     \u001b[1;32mdef\u001b[0m \u001b[0mwait\u001b[0m\u001b[1;33m(\u001b[0m\u001b[0mself\u001b[0m\u001b[1;33m,\u001b[0m \u001b[0mtimeout\u001b[0m\u001b[1;33m=\u001b[0m\u001b[1;32mNone\u001b[0m\u001b[1;33m)\u001b[0m\u001b[1;33m:\u001b[0m\u001b[1;33m\u001b[0m\u001b[0m\n\u001b[1;32m--> 635\u001b[1;33m         \u001b[0mself\u001b[0m\u001b[1;33m.\u001b[0m\u001b[0m_event\u001b[0m\u001b[1;33m.\u001b[0m\u001b[0mwait\u001b[0m\u001b[1;33m(\u001b[0m\u001b[0mtimeout\u001b[0m\u001b[1;33m)\u001b[0m\u001b[1;33m\u001b[0m\u001b[0m\n\u001b[0m\u001b[0;32m    636\u001b[0m \u001b[1;33m\u001b[0m\u001b[0m\n\u001b[0;32m    637\u001b[0m     \u001b[1;32mdef\u001b[0m \u001b[0mget\u001b[0m\u001b[1;33m(\u001b[0m\u001b[0mself\u001b[0m\u001b[1;33m,\u001b[0m \u001b[0mtimeout\u001b[0m\u001b[1;33m=\u001b[0m\u001b[1;32mNone\u001b[0m\u001b[1;33m)\u001b[0m\u001b[1;33m:\u001b[0m\u001b[1;33m\u001b[0m\u001b[0m\n",
      "\u001b[1;32m~\\.conda\\envs\\influ\\lib\\threading.py\u001b[0m in \u001b[0;36mwait\u001b[1;34m(self, timeout)\u001b[0m\n\u001b[0;32m    547\u001b[0m             \u001b[0msignaled\u001b[0m \u001b[1;33m=\u001b[0m \u001b[0mself\u001b[0m\u001b[1;33m.\u001b[0m\u001b[0m_flag\u001b[0m\u001b[1;33m\u001b[0m\u001b[0m\n\u001b[0;32m    548\u001b[0m             \u001b[1;32mif\u001b[0m \u001b[1;32mnot\u001b[0m \u001b[0msignaled\u001b[0m\u001b[1;33m:\u001b[0m\u001b[1;33m\u001b[0m\u001b[0m\n\u001b[1;32m--> 549\u001b[1;33m                 \u001b[0msignaled\u001b[0m \u001b[1;33m=\u001b[0m \u001b[0mself\u001b[0m\u001b[1;33m.\u001b[0m\u001b[0m_cond\u001b[0m\u001b[1;33m.\u001b[0m\u001b[0mwait\u001b[0m\u001b[1;33m(\u001b[0m\u001b[0mtimeout\u001b[0m\u001b[1;33m)\u001b[0m\u001b[1;33m\u001b[0m\u001b[0m\n\u001b[0m\u001b[0;32m    550\u001b[0m             \u001b[1;32mreturn\u001b[0m \u001b[0msignaled\u001b[0m\u001b[1;33m\u001b[0m\u001b[0m\n\u001b[0;32m    551\u001b[0m \u001b[1;33m\u001b[0m\u001b[0m\n",
      "\u001b[1;32m~\\.conda\\envs\\influ\\lib\\threading.py\u001b[0m in \u001b[0;36mwait\u001b[1;34m(self, timeout)\u001b[0m\n\u001b[0;32m    291\u001b[0m         \u001b[1;32mtry\u001b[0m\u001b[1;33m:\u001b[0m    \u001b[1;31m# restore state no matter what (e.g., KeyboardInterrupt)\u001b[0m\u001b[1;33m\u001b[0m\u001b[0m\n\u001b[0;32m    292\u001b[0m             \u001b[1;32mif\u001b[0m \u001b[0mtimeout\u001b[0m \u001b[1;32mis\u001b[0m \u001b[1;32mNone\u001b[0m\u001b[1;33m:\u001b[0m\u001b[1;33m\u001b[0m\u001b[0m\n\u001b[1;32m--> 293\u001b[1;33m                 \u001b[0mwaiter\u001b[0m\u001b[1;33m.\u001b[0m\u001b[0macquire\u001b[0m\u001b[1;33m(\u001b[0m\u001b[1;33m)\u001b[0m\u001b[1;33m\u001b[0m\u001b[0m\n\u001b[0m\u001b[0;32m    294\u001b[0m                 \u001b[0mgotit\u001b[0m \u001b[1;33m=\u001b[0m \u001b[1;32mTrue\u001b[0m\u001b[1;33m\u001b[0m\u001b[0m\n\u001b[0;32m    295\u001b[0m             \u001b[1;32melse\u001b[0m\u001b[1;33m:\u001b[0m\u001b[1;33m\u001b[0m\u001b[0m\n",
      "\u001b[1;31mKeyboardInterrupt\u001b[0m: "
     ]
    }
   ],
   "source": [
    "start = time.time()\n",
    "knn.fit(X_train, y_train)\n",
    "knn.score(X_test, y_test)\n",
    "end = time.time()\n",
    "print ('The program took %s seconds.' % (end-start))"
   ]
  },
  {
   "cell_type": "markdown",
   "metadata": {},
   "source": [
    "### Multilayer Perceptron"
   ]
  },
  {
   "cell_type": "code",
   "execution_count": 158,
   "metadata": {},
   "outputs": [],
   "source": [
    "from sklearn.neural_network import MLPClassifier"
   ]
  },
  {
   "cell_type": "code",
   "execution_count": 159,
   "metadata": {},
   "outputs": [],
   "source": [
    "mlp_adam = MLPClassifier(hidden_layer_sizes=(700, ), \n",
    "                    activation='relu', \n",
    "                    solver='adam', \n",
    "                    alpha=0.0001, \n",
    "                    batch_size=300,\n",
    "                    learning_rate='constant',\n",
    "                    learning_rate_init=0.001, \n",
    "                    power_t=0.5, max_iter=200, \n",
    "                    shuffle=True, \n",
    "                    random_state=None, \n",
    "                    tol=0.0001, \n",
    "                    verbose=True, \n",
    "                    warm_start=False,  \n",
    "                    early_stopping=False, \n",
    "                    validation_fraction=0.1, \n",
    "                    beta_1=0.9, \n",
    "                    beta_2=0.999, \n",
    "                    epsilon=1e-08)"
   ]
  },
  {
   "cell_type": "code",
   "execution_count": 160,
   "metadata": {},
   "outputs": [],
   "source": [
    "mlp_sgd = MLPClassifier(hidden_layer_sizes=(700, ), \n",
    "                    activation='relu', \n",
    "                    solver='sgd', \n",
    "                    alpha=0.0001, \n",
    "                    batch_size=300,\n",
    "                    learning_rate='adaptive',\n",
    "                    learning_rate_init=0.001, \n",
    "                    power_t=0.5, max_iter=200, \n",
    "                    shuffle=True, \n",
    "                    random_state=None, \n",
    "                    tol=0.0001, \n",
    "                    verbose=True, \n",
    "                    warm_start=False, \n",
    "                    momentum=0.9, \n",
    "                    nesterovs_momentum=True)"
   ]
  },
  {
   "cell_type": "code",
   "execution_count": 233,
   "metadata": {
    "scrolled": true
   },
   "outputs": [
    {
     "name": "stdout",
     "output_type": "stream",
     "text": [
      "Iteration 1, loss = 0.23207644\n",
      "Iteration 2, loss = 0.22317148\n",
      "Iteration 3, loss = 0.22141755\n",
      "Iteration 4, loss = 0.22065229\n",
      "Iteration 5, loss = 0.21994173\n",
      "Iteration 6, loss = 0.21927479\n",
      "Iteration 7, loss = 0.21868284\n",
      "Iteration 8, loss = 0.21806094\n",
      "Iteration 9, loss = 0.21745211\n",
      "Iteration 10, loss = 0.21676078\n",
      "Iteration 11, loss = 0.21620765\n",
      "Iteration 12, loss = 0.21534608\n",
      "Iteration 13, loss = 0.21456110\n",
      "Iteration 14, loss = 0.21416455\n",
      "Iteration 15, loss = 0.21336145\n",
      "Iteration 16, loss = 0.21263578\n",
      "Iteration 17, loss = 0.21202059\n",
      "Iteration 18, loss = 0.21103113\n",
      "Iteration 19, loss = 0.21057693\n",
      "Iteration 20, loss = 0.20929123\n",
      "Iteration 21, loss = 0.20853457\n",
      "Iteration 22, loss = 0.20766079\n",
      "Iteration 23, loss = 0.20711221\n",
      "Iteration 24, loss = 0.20628184\n",
      "Iteration 25, loss = 0.20497655\n",
      "Iteration 26, loss = 0.20387367\n",
      "Iteration 27, loss = 0.20357855\n",
      "Iteration 28, loss = 0.20202355\n",
      "Iteration 29, loss = 0.20134338\n",
      "Iteration 30, loss = 0.20020065\n",
      "Iteration 31, loss = 0.19909552\n",
      "Iteration 32, loss = 0.19836582\n",
      "Iteration 33, loss = 0.19743316\n",
      "Iteration 34, loss = 0.19659731\n",
      "Iteration 35, loss = 0.19564912\n",
      "Iteration 36, loss = 0.19426740\n",
      "Iteration 37, loss = 0.19344212\n",
      "Iteration 38, loss = 0.19183619\n",
      "Iteration 39, loss = 0.19141119\n",
      "Iteration 40, loss = 0.19067596\n",
      "Iteration 41, loss = 0.19013088\n",
      "Iteration 42, loss = 0.18823199\n",
      "Iteration 43, loss = 0.18746998\n",
      "Iteration 44, loss = 0.18681517\n",
      "Iteration 45, loss = 0.18607978\n",
      "Iteration 46, loss = 0.18465800\n",
      "Iteration 47, loss = 0.18434979\n",
      "Iteration 48, loss = 0.18276130\n",
      "Iteration 49, loss = 0.18173083\n",
      "Iteration 50, loss = 0.18086565\n",
      "Iteration 51, loss = 0.18071275\n",
      "Iteration 52, loss = 0.17977902\n",
      "Iteration 53, loss = 0.17899041\n",
      "Iteration 54, loss = 0.17858099\n",
      "Iteration 55, loss = 0.17656826\n",
      "Iteration 56, loss = 0.17632117\n",
      "Iteration 57, loss = 0.17573613\n",
      "Iteration 58, loss = 0.17526506\n",
      "Iteration 59, loss = 0.17355947\n",
      "Iteration 60, loss = 0.17298990\n",
      "Iteration 61, loss = 0.17263590\n",
      "Iteration 62, loss = 0.17112074\n",
      "Iteration 63, loss = 0.17172693\n",
      "Iteration 64, loss = 0.17053654\n",
      "Iteration 65, loss = 0.16946625\n",
      "Iteration 66, loss = 0.16849165\n",
      "Iteration 67, loss = 0.16848131\n",
      "Iteration 68, loss = 0.16791369\n",
      "Iteration 69, loss = 0.16679837\n",
      "Iteration 70, loss = 0.16645394\n",
      "Iteration 71, loss = 0.16550238\n",
      "Iteration 72, loss = 0.16461284\n",
      "Iteration 73, loss = 0.16472363\n",
      "Iteration 74, loss = 0.16438722\n",
      "Iteration 75, loss = 0.16271449\n",
      "Iteration 76, loss = 0.16299846\n",
      "Iteration 77, loss = 0.16161671\n",
      "Iteration 78, loss = 0.16277299\n",
      "Iteration 79, loss = 0.16251438\n",
      "Iteration 80, loss = 0.16080956\n",
      "Iteration 81, loss = 0.15897025\n",
      "Iteration 82, loss = 0.15958930\n",
      "Iteration 83, loss = 0.15840671\n",
      "Iteration 84, loss = 0.15851602\n",
      "Iteration 85, loss = 0.15788922\n",
      "Iteration 86, loss = 0.15851041\n",
      "Iteration 87, loss = 0.15655009\n",
      "Iteration 88, loss = 0.15686567\n",
      "Iteration 89, loss = 0.15640772\n",
      "Iteration 90, loss = 0.15492337\n",
      "Iteration 91, loss = 0.15493976\n",
      "Iteration 92, loss = 0.15438439\n",
      "Iteration 93, loss = 0.15422935\n",
      "Iteration 94, loss = 0.15340036\n",
      "Iteration 95, loss = 0.15432898\n",
      "Iteration 96, loss = 0.15204200\n",
      "Iteration 97, loss = 0.15288223\n",
      "Iteration 98, loss = 0.15266906\n",
      "Iteration 99, loss = 0.15136440\n",
      "Iteration 100, loss = 0.15118317\n",
      "Iteration 101, loss = 0.15091472\n",
      "Iteration 102, loss = 0.14945313\n",
      "Iteration 103, loss = 0.15070431\n",
      "Iteration 104, loss = 0.15025518\n",
      "Iteration 105, loss = 0.14889137\n",
      "Iteration 106, loss = 0.14947512\n",
      "Iteration 107, loss = 0.14872316\n",
      "Iteration 108, loss = 0.14740724\n",
      "Iteration 109, loss = 0.14715598\n",
      "Iteration 110, loss = 0.14734782\n",
      "Iteration 111, loss = 0.14861328\n",
      "Iteration 112, loss = 0.14657259\n",
      "Iteration 113, loss = 0.14669266\n",
      "Iteration 114, loss = 0.14697138\n",
      "Iteration 115, loss = 0.14722869\n",
      "Iteration 116, loss = 0.14516354\n",
      "Iteration 117, loss = 0.14483746\n",
      "Iteration 118, loss = 0.14429019\n",
      "Iteration 119, loss = 0.14436533\n",
      "Iteration 120, loss = 0.14457156\n",
      "Iteration 121, loss = 0.14400399\n",
      "Iteration 122, loss = 0.14425077\n",
      "Iteration 123, loss = 0.14370833\n",
      "Iteration 124, loss = 0.14302423\n",
      "Iteration 125, loss = 0.14109552\n",
      "Iteration 126, loss = 0.14334643\n",
      "Iteration 127, loss = 0.14172573\n",
      "Iteration 128, loss = 0.14130099\n",
      "Iteration 129, loss = 0.14110821\n",
      "Iteration 130, loss = 0.14040866\n",
      "Iteration 131, loss = 0.14164962\n",
      "Iteration 132, loss = 0.14184386\n",
      "Iteration 133, loss = 0.13967254\n",
      "Iteration 134, loss = 0.13902383\n",
      "Iteration 135, loss = 0.14134676\n",
      "Iteration 136, loss = 0.14096179\n",
      "Iteration 137, loss = 0.13894736\n",
      "Iteration 138, loss = 0.13818828\n",
      "Iteration 139, loss = 0.13772738\n",
      "Iteration 140, loss = 0.13961533\n",
      "Iteration 141, loss = 0.13820078\n",
      "Iteration 142, loss = 0.13820545\n",
      "Iteration 143, loss = 0.13777848\n",
      "Iteration 144, loss = 0.13668685\n",
      "Iteration 145, loss = 0.13731940\n",
      "Iteration 146, loss = 0.13753211\n",
      "Iteration 147, loss = 0.13602058\n",
      "Iteration 148, loss = 0.13718983\n",
      "Iteration 149, loss = 0.13629469\n",
      "Iteration 150, loss = 0.13779117\n",
      "Iteration 151, loss = 0.13546264\n",
      "Iteration 152, loss = 0.13598626\n",
      "Iteration 153, loss = 0.13619565\n",
      "Iteration 154, loss = 0.13486878\n",
      "Iteration 155, loss = 0.13513542\n",
      "Iteration 156, loss = 0.13397841\n",
      "Iteration 157, loss = 0.13439170\n",
      "Iteration 158, loss = 0.13443060\n",
      "Iteration 159, loss = 0.13586822\n",
      "Iteration 160, loss = 0.13387784\n",
      "Iteration 161, loss = 0.13418920\n",
      "Iteration 162, loss = 0.13328515\n",
      "Iteration 163, loss = 0.13381575\n",
      "Iteration 164, loss = 0.13337747\n",
      "Iteration 165, loss = 0.13209002\n",
      "Iteration 166, loss = 0.13293249\n",
      "Iteration 167, loss = 0.13193328\n",
      "Iteration 168, loss = 0.13239814\n",
      "Iteration 169, loss = 0.13268203\n",
      "Iteration 170, loss = 0.13266634\n",
      "Iteration 171, loss = 0.13224893\n",
      "Iteration 172, loss = 0.13198384\n",
      "Iteration 173, loss = 0.13334736\n",
      "Iteration 174, loss = 0.13064920\n",
      "Iteration 175, loss = 0.13025719\n",
      "Iteration 176, loss = 0.13165435\n",
      "Iteration 177, loss = 0.13014198\n",
      "Iteration 178, loss = 0.13133033\n",
      "Iteration 179, loss = 0.13014346\n",
      "Iteration 180, loss = 0.13123472\n",
      "Iteration 181, loss = 0.12955427\n",
      "Iteration 182, loss = 0.13018638\n",
      "Iteration 183, loss = 0.13030344\n",
      "Iteration 184, loss = 0.12911203\n",
      "Iteration 185, loss = 0.13186392\n",
      "Iteration 186, loss = 0.12908765\n",
      "Iteration 187, loss = 0.12900369\n",
      "Iteration 188, loss = 0.12978775\n",
      "Iteration 189, loss = 0.12844052\n",
      "Iteration 190, loss = 0.12815515\n",
      "Iteration 191, loss = 0.12747452\n",
      "Iteration 192, loss = 0.12838720\n",
      "Iteration 193, loss = 0.12837868\n",
      "Iteration 194, loss = 0.12933486\n",
      "Iteration 195, loss = 0.12708859\n",
      "Iteration 196, loss = 0.12793504\n",
      "Iteration 197, loss = 0.12788714\n",
      "Iteration 198, loss = 0.12770396\n",
      "Iteration 199, loss = 0.12692724\n",
      "Iteration 200, loss = 0.12615237\n",
      "The program took 3372.4623188972473 seconds.\n"
     ]
    },
    {
     "name": "stderr",
     "output_type": "stream",
     "text": [
      "C:\\Users\\ZJUSO\\.conda\\envs\\influ\\lib\\site-packages\\sklearn\\neural_network\\multilayer_perceptron.py:562: ConvergenceWarning: Stochastic Optimizer: Maximum iterations (200) reached and the optimization hasn't converged yet.\n",
      "  % self.max_iter, ConvergenceWarning)\n"
     ]
    }
   ],
   "source": [
    "start = time.time()\n",
    "mlp_adam.fit(train_features, train_data['label'])\n",
    "end = time.time()\n",
    "print ('The program took %s seconds.' % (end-start))"
   ]
  },
  {
   "cell_type": "code",
   "execution_count": 236,
   "metadata": {},
   "outputs": [
    {
     "data": {
      "text/plain": [
       "0.9579141788444114"
      ]
     },
     "execution_count": 236,
     "metadata": {},
     "output_type": "execute_result"
    }
   ],
   "source": [
    "mlp_adam.score(X_test, y_test)"
   ]
  },
  {
   "cell_type": "code",
   "execution_count": 237,
   "metadata": {},
   "outputs": [],
   "source": [
    "prob = mlp_adam.predict_proba(test_features)\n",
    "alitest.drop(columns='prob', inplace=True)\n",
    "alitest.insert(2, 'prob', prob[:,1])\n",
    "alitest.to_csv('data/submission_1229_mlp_adam_700nodes.csv', index=False)"
   ]
  },
  {
   "cell_type": "code",
   "execution_count": 239,
   "metadata": {
    "scrolled": true
   },
   "outputs": [
    {
     "name": "stdout",
     "output_type": "stream",
     "text": [
      "Iteration 1, loss = 0.25382600\n",
      "Iteration 2, loss = 0.22795369\n",
      "Iteration 3, loss = 0.22553129\n",
      "Iteration 4, loss = 0.22431282\n",
      "Iteration 5, loss = 0.22343532\n",
      "Iteration 6, loss = 0.22277713\n",
      "Iteration 7, loss = 0.22228521\n",
      "Iteration 8, loss = 0.22196915\n",
      "Iteration 9, loss = 0.22153081\n",
      "Iteration 10, loss = 0.22125691\n",
      "Iteration 11, loss = 0.22106665\n",
      "Iteration 12, loss = 0.22077391\n",
      "Iteration 13, loss = 0.22063498\n",
      "Iteration 14, loss = 0.22037997\n",
      "Iteration 15, loss = 0.22021712\n",
      "Iteration 16, loss = 0.22001712\n",
      "Iteration 17, loss = 0.21988864\n",
      "Iteration 18, loss = 0.21982402\n",
      "Iteration 19, loss = 0.21965087\n",
      "Iteration 20, loss = 0.21952419\n",
      "Iteration 21, loss = 0.21940230\n",
      "Iteration 22, loss = 0.21933124\n",
      "Iteration 23, loss = 0.21920434\n",
      "Iteration 24, loss = 0.21905772\n",
      "Iteration 25, loss = 0.21902080\n",
      "Iteration 26, loss = 0.21893659\n",
      "Iteration 27, loss = 0.21881379\n",
      "Iteration 28, loss = 0.21869297\n",
      "Iteration 29, loss = 0.21865082\n",
      "Iteration 30, loss = 0.21851100\n",
      "Iteration 31, loss = 0.21844635\n",
      "Iteration 32, loss = 0.21832436\n",
      "Iteration 33, loss = 0.21821093\n",
      "Iteration 34, loss = 0.21816863\n",
      "Iteration 35, loss = 0.21810232\n",
      "Iteration 36, loss = 0.21799670\n",
      "Iteration 37, loss = 0.21794285\n",
      "Iteration 38, loss = 0.21784064\n",
      "Iteration 39, loss = 0.21780733\n",
      "Iteration 40, loss = 0.21766847\n",
      "Iteration 41, loss = 0.21768587\n",
      "Iteration 42, loss = 0.21757228\n",
      "Iteration 43, loss = 0.21744157\n",
      "Iteration 44, loss = 0.21745133\n",
      "Iteration 45, loss = 0.21733820\n",
      "Iteration 46, loss = 0.21727614\n",
      "Iteration 47, loss = 0.21719283\n",
      "Iteration 48, loss = 0.21716398\n",
      "Iteration 49, loss = 0.21699231\n",
      "Iteration 50, loss = 0.21700714\n",
      "Iteration 51, loss = 0.21694984\n",
      "Iteration 52, loss = 0.21688150\n",
      "Iteration 53, loss = 0.21692676\n",
      "Iteration 54, loss = 0.21680531\n",
      "Iteration 55, loss = 0.21664741\n",
      "Iteration 56, loss = 0.21667361\n",
      "Iteration 57, loss = 0.21660844\n",
      "Iteration 58, loss = 0.21653348\n",
      "Iteration 59, loss = 0.21639111\n",
      "Iteration 60, loss = 0.21641417\n",
      "Iteration 61, loss = 0.21629430\n",
      "Iteration 62, loss = 0.21630293\n",
      "Iteration 63, loss = 0.21627580\n",
      "Iteration 64, loss = 0.21617261\n",
      "Iteration 65, loss = 0.21613191\n",
      "Iteration 66, loss = 0.21598058\n",
      "Iteration 67, loss = 0.21597663\n",
      "Iteration 68, loss = 0.21590730\n",
      "Iteration 69, loss = 0.21588945\n",
      "Iteration 70, loss = 0.21581775\n",
      "Iteration 71, loss = 0.21579418\n",
      "Iteration 72, loss = 0.21571863\n",
      "Iteration 73, loss = 0.21562696\n",
      "Iteration 74, loss = 0.21562698\n",
      "Iteration 75, loss = 0.21552035\n",
      "Iteration 76, loss = 0.21548419\n",
      "Iteration 77, loss = 0.21537901\n",
      "Iteration 78, loss = 0.21540935\n",
      "Iteration 79, loss = 0.21523600\n",
      "Iteration 80, loss = 0.21526733\n",
      "Iteration 81, loss = 0.21523257\n",
      "Iteration 82, loss = 0.21521012\n",
      "Iteration 83, loss = 0.21504497\n",
      "Iteration 84, loss = 0.21501070\n",
      "Iteration 85, loss = 0.21496088\n",
      "Iteration 86, loss = 0.21491237\n",
      "Iteration 87, loss = 0.21480823\n",
      "Iteration 88, loss = 0.21490714\n",
      "Iteration 89, loss = 0.21473971\n",
      "Iteration 90, loss = 0.21465306\n",
      "Iteration 91, loss = 0.21460824\n",
      "Iteration 92, loss = 0.21460958\n",
      "Iteration 93, loss = 0.21446856\n",
      "Iteration 94, loss = 0.21450471\n",
      "Iteration 95, loss = 0.21440358\n",
      "Iteration 96, loss = 0.21438730\n",
      "Iteration 97, loss = 0.21428283\n",
      "Iteration 98, loss = 0.21426154\n",
      "Iteration 99, loss = 0.21419552\n",
      "Iteration 100, loss = 0.21415851\n",
      "Iteration 101, loss = 0.21410987\n",
      "Iteration 102, loss = 0.21400345\n",
      "Iteration 103, loss = 0.21397101\n",
      "Iteration 104, loss = 0.21391904\n",
      "Iteration 105, loss = 0.21386793\n",
      "Iteration 106, loss = 0.21377252\n",
      "Iteration 107, loss = 0.21377440\n",
      "Iteration 108, loss = 0.21371847\n",
      "Iteration 109, loss = 0.21358865\n",
      "Iteration 110, loss = 0.21354581\n",
      "Iteration 111, loss = 0.21351646\n",
      "Iteration 112, loss = 0.21343664\n",
      "Iteration 113, loss = 0.21343186\n",
      "Iteration 114, loss = 0.21334312\n",
      "Iteration 115, loss = 0.21338745\n",
      "Iteration 116, loss = 0.21320986\n",
      "Iteration 117, loss = 0.21315935\n",
      "Iteration 118, loss = 0.21316834\n",
      "Iteration 119, loss = 0.21312137\n",
      "Iteration 120, loss = 0.21305394\n",
      "Iteration 121, loss = 0.21300949\n",
      "Iteration 122, loss = 0.21292358\n",
      "Iteration 123, loss = 0.21280687\n",
      "Iteration 124, loss = 0.21277591\n",
      "Iteration 125, loss = 0.21265914\n",
      "Iteration 126, loss = 0.21269562\n",
      "Iteration 127, loss = 0.21268897\n",
      "Iteration 128, loss = 0.21259987\n",
      "Iteration 129, loss = 0.21249435\n",
      "Iteration 130, loss = 0.21244251\n",
      "Iteration 131, loss = 0.21238426\n",
      "Iteration 132, loss = 0.21234180\n",
      "Iteration 133, loss = 0.21230074\n",
      "Iteration 134, loss = 0.21216373\n",
      "Iteration 135, loss = 0.21212445\n",
      "Iteration 136, loss = 0.21212104\n",
      "Iteration 137, loss = 0.21212773\n",
      "Iteration 138, loss = 0.21197227\n",
      "Iteration 139, loss = 0.21197503\n",
      "Iteration 140, loss = 0.21182691\n",
      "Iteration 141, loss = 0.21183477\n",
      "Iteration 142, loss = 0.21168797\n",
      "Iteration 143, loss = 0.21172930\n",
      "Iteration 144, loss = 0.21159728\n",
      "Iteration 145, loss = 0.21154786\n",
      "Iteration 146, loss = 0.21155656\n",
      "Iteration 147, loss = 0.21151789\n",
      "Iteration 148, loss = 0.21143122\n",
      "Iteration 149, loss = 0.21137393\n",
      "Iteration 150, loss = 0.21130490\n",
      "Iteration 151, loss = 0.21129046\n",
      "Iteration 152, loss = 0.21112633\n",
      "Iteration 153, loss = 0.21114833\n",
      "Iteration 154, loss = 0.21110716\n",
      "Iteration 155, loss = 0.21097507\n",
      "Iteration 156, loss = 0.21092704\n",
      "Iteration 157, loss = 0.21084687\n",
      "Iteration 158, loss = 0.21083808\n",
      "Iteration 159, loss = 0.21070211\n",
      "Iteration 160, loss = 0.21072677\n",
      "Iteration 161, loss = 0.21063038\n",
      "Iteration 162, loss = 0.21064446\n",
      "Iteration 163, loss = 0.21055611\n",
      "Iteration 164, loss = 0.21049908\n",
      "Iteration 165, loss = 0.21041161\n",
      "Iteration 166, loss = 0.21043601\n",
      "Iteration 167, loss = 0.21021990\n",
      "Iteration 168, loss = 0.21012038\n",
      "Iteration 169, loss = 0.21020162\n",
      "Iteration 170, loss = 0.21008458\n",
      "Iteration 171, loss = 0.21002865\n",
      "Iteration 172, loss = 0.21001944\n",
      "Iteration 173, loss = 0.21000964\n",
      "Iteration 174, loss = 0.20984867\n",
      "Iteration 175, loss = 0.20982515\n",
      "Iteration 176, loss = 0.20968341\n",
      "Iteration 177, loss = 0.20971143\n",
      "Iteration 178, loss = 0.20964625\n",
      "Iteration 179, loss = 0.20962455\n",
      "Iteration 180, loss = 0.20950530\n",
      "Iteration 181, loss = 0.20948290\n",
      "Iteration 182, loss = 0.20944378\n",
      "Iteration 183, loss = 0.20939824\n",
      "Iteration 184, loss = 0.20929611\n",
      "Iteration 185, loss = 0.20928036\n",
      "Iteration 186, loss = 0.20915991\n",
      "Iteration 187, loss = 0.20902490\n",
      "Iteration 188, loss = 0.20910406\n",
      "Iteration 189, loss = 0.20898073\n",
      "Iteration 190, loss = 0.20895699\n",
      "Iteration 191, loss = 0.20884314\n",
      "Iteration 192, loss = 0.20881867\n",
      "Iteration 193, loss = 0.20879806\n",
      "Iteration 194, loss = 0.20868635\n",
      "Iteration 195, loss = 0.20862535\n",
      "Iteration 196, loss = 0.20853733\n",
      "Iteration 197, loss = 0.20856441\n",
      "Iteration 198, loss = 0.20841164\n",
      "Iteration 199, loss = 0.20848539\n",
      "Iteration 200, loss = 0.20837307\n"
     ]
    },
    {
     "name": "stderr",
     "output_type": "stream",
     "text": [
      "C:\\Users\\ZJUSO\\.conda\\envs\\influ\\lib\\site-packages\\sklearn\\neural_network\\multilayer_perceptron.py:562: ConvergenceWarning: Stochastic Optimizer: Maximum iterations (200) reached and the optimization hasn't converged yet.\n",
      "  % self.max_iter, ConvergenceWarning)\n"
     ]
    },
    {
     "name": "stdout",
     "output_type": "stream",
     "text": [
      "0.9396275453876349\n",
      "The program took 820.1729173660278 seconds.\n"
     ]
    }
   ],
   "source": [
    "start = time.time()\n",
    "mlp_sgd.fit(train_features, train_data['label'])\n",
    "print(mlp_sgd.score(train_features, train_data['label']))\n",
    "end = time.time()\n",
    "print ('The program took %s seconds.' % (end-start))"
   ]
  },
  {
   "cell_type": "code",
   "execution_count": 240,
   "metadata": {},
   "outputs": [],
   "source": [
    "prob = mlp_sgd.predict_proba(test_features)\n",
    "alitest.drop(columns='prob', inplace=True)\n",
    "alitest.insert(2, 'prob', prob[:,1])\n",
    "alitest.to_csv('data/submission_1229_mlp_sgd_700nodes.csv', index=False)"
   ]
  },
  {
   "cell_type": "markdown",
   "metadata": {},
   "source": [
    "### Random Forest"
   ]
  },
  {
   "cell_type": "code",
   "execution_count": 167,
   "metadata": {},
   "outputs": [],
   "source": [
    "from sklearn.ensemble import RandomForestClassifier"
   ]
  },
  {
   "cell_type": "code",
   "execution_count": 168,
   "metadata": {},
   "outputs": [],
   "source": [
    "rf = RandomForestClassifier(n_estimators=100, \n",
    "                       criterion='gini', \n",
    "                       max_depth=8, \n",
    "                       min_samples_split=2, \n",
    "                       min_samples_leaf=1, \n",
    "                       min_weight_fraction_leaf=0.0,\n",
    "                       max_features='sqrt', \n",
    "                       max_leaf_nodes=None, \n",
    "                       min_impurity_decrease=0.0,\n",
    "                       min_impurity_split=None, \n",
    "                       bootstrap=True, \n",
    "                       oob_score=False, \n",
    "                       n_jobs=7,\n",
    "                       random_state=None, \n",
    "                       verbose=2,  \n",
    "                       class_weight=None)"
   ]
  },
  {
   "cell_type": "code",
   "execution_count": 257,
   "metadata": {
    "scrolled": true
   },
   "outputs": [
    {
     "name": "stderr",
     "output_type": "stream",
     "text": [
      "[Parallel(n_jobs=7)]: Using backend ThreadingBackend with 7 concurrent workers.\n"
     ]
    },
    {
     "name": "stdout",
     "output_type": "stream",
     "text": [
      "building tree 1 of 100\n",
      "building tree 2 of 100\n",
      "building tree 3 of 100\n",
      "building tree 4 of 100\n",
      "building tree 5 of 100\n",
      "building tree 6 of 100\n",
      "building tree 7 of 100\n",
      "building tree 8 of 100\n",
      "building tree 9 of 100building tree 10 of 100\n",
      "\n",
      "building tree 11 of 100\n",
      "building tree 12 of 100\n",
      "building tree 13 of 100\n",
      "building tree 14 of 100\n",
      "building tree 15 of 100\n",
      "building tree 16 of 100\n",
      "building tree 17 of 100\n",
      "building tree 18 of 100\n",
      "building tree 19 of 100\n",
      "building tree 20 of 100\n",
      "building tree 21 of 100\n",
      "building tree 22 of 100\n",
      "building tree 23 of 100\n",
      "building tree 24 of 100\n",
      "building tree 25 of 100\n",
      "building tree 26 of 100\n",
      "building tree 27 of 100\n",
      "building tree 28 of 100\n",
      "building tree 29 of 100\n",
      "building tree 30 of 100\n",
      "building tree 31 of 100\n",
      "building tree 32 of 100\n",
      "building tree 33 of 100\n",
      "building tree 34 of 100\n",
      "building tree 35 of 100\n"
     ]
    },
    {
     "name": "stderr",
     "output_type": "stream",
     "text": [
      "[Parallel(n_jobs=7)]: Done  27 tasks      | elapsed:    2.2s\n"
     ]
    },
    {
     "name": "stdout",
     "output_type": "stream",
     "text": [
      "building tree 36 of 100\n",
      "building tree 37 of 100\n",
      "building tree 38 of 100\n",
      "building tree 39 of 100\n",
      "building tree 40 of 100\n",
      "building tree 41 of 100\n",
      "building tree 42 of 100\n",
      "building tree 43 of 100\n",
      "building tree 44 of 100\n",
      "building tree 45 of 100\n",
      "building tree 46 of 100\n",
      "building tree 47 of 100\n",
      "building tree 48 of 100\n",
      "building tree 49 of 100\n",
      "building tree 50 of 100\n",
      "building tree 51 of 100\n",
      "building tree 52 of 100\n",
      "building tree 53 of 100\n",
      "building tree 54 of 100\n",
      "building tree 55 of 100building tree 56 of 100\n",
      "\n",
      "building tree 57 of 100\n",
      "building tree 58 of 100\n",
      "building tree 59 of 100\n",
      "building tree 60 of 100\n",
      "building tree 61 of 100\n",
      "building tree 62 of 100\n",
      "building tree 63 of 100\n",
      "building tree 64 of 100\n",
      "building tree 65 of 100\n",
      "building tree 66 of 100\n",
      "building tree 67 of 100\n",
      "building tree 68 of 100\n",
      "building tree 69 of 100\n",
      "building tree 70 of 100\n",
      "building tree 71 of 100\n",
      "building tree 72 of 100\n",
      "building tree 73 of 100\n",
      "building tree 74 of 100\n",
      "building tree 75 of 100\n",
      "building tree 76 of 100\n",
      "building tree 77 of 100\n",
      "building tree 78 of 100\n",
      "building tree 79 of 100\n",
      "building tree 80 of 100\n",
      "building tree 81 of 100\n",
      "building tree 82 of 100\n",
      "building tree 83 of 100\n",
      "building tree 84 of 100\n",
      "building tree 85 of 100\n",
      "building tree 86 of 100\n",
      "building tree 87 of 100\n",
      "building tree 88 of 100\n",
      "building tree 89 of 100\n",
      "building tree 90 of 100\n",
      "building tree 91 of 100\n",
      "building tree 92 of 100\n",
      "building tree 93 of 100\n",
      "building tree 94 of 100\n",
      "building tree 95 of 100\n",
      "building tree 96 of 100building tree 97 of 100\n",
      "\n",
      "building tree 98 of 100\n",
      "building tree 99 of 100\n",
      "building tree 100 of 100\n"
     ]
    },
    {
     "name": "stderr",
     "output_type": "stream",
     "text": [
      "[Parallel(n_jobs=7)]: Done 100 out of 100 | elapsed:    7.6s finished\n",
      "[Parallel(n_jobs=7)]: Using backend ThreadingBackend with 7 concurrent workers.\n",
      "[Parallel(n_jobs=7)]: Done  27 tasks      | elapsed:    0.0s\n"
     ]
    },
    {
     "name": "stdout",
     "output_type": "stream",
     "text": [
      "0.9388838628557409\n",
      "The program took 8.556577205657959 seconds.\n"
     ]
    },
    {
     "name": "stderr",
     "output_type": "stream",
     "text": [
      "[Parallel(n_jobs=7)]: Done 100 out of 100 | elapsed:    0.3s finished\n"
     ]
    }
   ],
   "source": [
    "start = time.time()\n",
    "rf.fit(train_features, train_data['label'])\n",
    "print(rf.score(train_features, train_data['label']))\n",
    "end = time.time()\n",
    "print('The program took %s seconds.' % (end-start))"
   ]
  },
  {
   "cell_type": "code",
   "execution_count": 258,
   "metadata": {},
   "outputs": [
    {
     "name": "stderr",
     "output_type": "stream",
     "text": [
      "[Parallel(n_jobs=7)]: Using backend ThreadingBackend with 7 concurrent workers.\n",
      "[Parallel(n_jobs=7)]: Done  27 tasks      | elapsed:    0.0s\n",
      "[Parallel(n_jobs=7)]: Done 100 out of 100 | elapsed:    0.4s finished\n"
     ]
    }
   ],
   "source": [
    "prob = rf.predict_proba(test_features)\n",
    "alitest.drop(columns='prob', inplace=True)\n",
    "alitest.insert(2, 'prob', prob[:,1])\n",
    "alitest.to_csv('data/submission_1229_randomforest_maxdepth8_100trees.csv', index=False)"
   ]
  },
  {
   "cell_type": "markdown",
   "metadata": {},
   "source": [
    "### Adaboost"
   ]
  },
  {
   "cell_type": "code",
   "execution_count": 169,
   "metadata": {},
   "outputs": [],
   "source": [
    "from sklearn.ensemble import AdaBoostClassifier"
   ]
  },
  {
   "cell_type": "code",
   "execution_count": 174,
   "metadata": {},
   "outputs": [],
   "source": [
    "ada = AdaBoostClassifier(base_estimator=None, \n",
    "                         n_estimators=50, \n",
    "                         learning_rate=1.0, \n",
    "                         algorithm='SAMME.R', \n",
    "                         random_state=None)"
   ]
  },
  {
   "cell_type": "code",
   "execution_count": 259,
   "metadata": {},
   "outputs": [
    {
     "name": "stdout",
     "output_type": "stream",
     "text": [
      "Accuracy of validation set: 0.9388455287046124\n",
      "The program took 37.004589557647705 seconds.\n"
     ]
    }
   ],
   "source": [
    "start = time.time()\n",
    "ada.fit(train_features, train_data['label'])\n",
    "print('Accuracy of validation set: %s' % (ada.score(train_features, train_data['label'])))\n",
    "end = time.time()\n",
    "print('The program took %s seconds.' % (end-start))"
   ]
  },
  {
   "cell_type": "code",
   "execution_count": 260,
   "metadata": {},
   "outputs": [],
   "source": [
    "prob = ada.predict_proba(test_features)\n",
    "alitest.drop(columns='prob', inplace=True)\n",
    "alitest.insert(2, 'prob', prob[:,1])\n",
    "alitest.to_csv('data/submission_1229_adaboost_n50_lr1.csv', index=False)"
   ]
  },
  {
   "cell_type": "markdown",
   "metadata": {},
   "source": [
    "### XGBoost"
   ]
  },
  {
   "cell_type": "code",
   "execution_count": 177,
   "metadata": {},
   "outputs": [],
   "source": [
    "import xgboost as xgb"
   ]
  },
  {
   "cell_type": "code",
   "execution_count": 261,
   "metadata": {},
   "outputs": [],
   "source": [
    "dtrain = xgb.DMatrix(X_train, label=y_train)\n",
    "dtest = xgb.DMatrix(X_test, label=y_test)"
   ]
  },
  {
   "cell_type": "code",
   "execution_count": 303,
   "metadata": {},
   "outputs": [],
   "source": [
    "bst = xgb.XGBClassifier(learning_rate= 0.1, \n",
    "                   n_estimators=300,\n",
    "                   objective= 'binary:logistic',\n",
    "                   booster='gbtree',\n",
    "                   tree_method='auto',\n",
    "                   gamma=0.1,  # 用于控制是否后剪枝的参数,越大越保守，一般0.1、0.2这样子。\n",
    "                   max_depth=8, # 构建树的深度，越大越容易过拟合\n",
    "                   reg_lambda=2,  # 控制模型复杂度的权重值的L2正则化项参数，参数越大，模型越不容易过拟合。\n",
    "                   subsample=0.7, # 随机采样训练样本\n",
    "                   colsample_bytree=0.7, # 生成树时进行的列采样\n",
    "                   min_child_weight=1, \n",
    "                    # 这个参数默认是 1，是每个叶子里面 h 的和至少是多少，对正负样本不均衡时的 0-1 分类而言\n",
    "                    # 假设 h 在 0.01 附近，min_child_weight 为 1 意味着叶子节点中最少需要包含 100 个样本。\n",
    "                    # 这个参数非常影响结果，控制叶子节点中二阶导的和的最小值，该参数值越小，越容易 overfitting。 \n",
    "                   verbosity=2 ,#设置成1则没有运行信息输出，最好是设置为0.\n",
    "                   seed=1000,\n",
    "                   n_jobs=7,# cpu 线程数\n",
    "                  )"
   ]
  },
  {
   "cell_type": "code",
   "execution_count": 305,
   "metadata": {
    "scrolled": true
   },
   "outputs": [
    {
     "name": "stdout",
     "output_type": "stream",
     "text": [
      "[0]\tvalidation_0-auc:0.62925\tvalidation_1-auc:0.61659\n",
      "[1]\tvalidation_0-auc:0.641166\tvalidation_1-auc:0.626596\n",
      "[2]\tvalidation_0-auc:0.649947\tvalidation_1-auc:0.633181\n",
      "[3]\tvalidation_0-auc:0.655037\tvalidation_1-auc:0.634385\n",
      "[4]\tvalidation_0-auc:0.660357\tvalidation_1-auc:0.636811\n",
      "[5]\tvalidation_0-auc:0.663497\tvalidation_1-auc:0.638005\n",
      "[6]\tvalidation_0-auc:0.668918\tvalidation_1-auc:0.641556\n",
      "[7]\tvalidation_0-auc:0.671209\tvalidation_1-auc:0.641988\n",
      "[8]\tvalidation_0-auc:0.674457\tvalidation_1-auc:0.643174\n",
      "[9]\tvalidation_0-auc:0.678809\tvalidation_1-auc:0.64581\n",
      "[10]\tvalidation_0-auc:0.682519\tvalidation_1-auc:0.647412\n",
      "[11]\tvalidation_0-auc:0.686487\tvalidation_1-auc:0.648423\n",
      "[12]\tvalidation_0-auc:0.689851\tvalidation_1-auc:0.649236\n",
      "[13]\tvalidation_0-auc:0.693168\tvalidation_1-auc:0.649481\n",
      "[14]\tvalidation_0-auc:0.694978\tvalidation_1-auc:0.65039\n",
      "[15]\tvalidation_0-auc:0.69995\tvalidation_1-auc:0.650752\n",
      "[16]\tvalidation_0-auc:0.703211\tvalidation_1-auc:0.650893\n",
      "[17]\tvalidation_0-auc:0.705629\tvalidation_1-auc:0.652675\n",
      "[18]\tvalidation_0-auc:0.708492\tvalidation_1-auc:0.653951\n",
      "[19]\tvalidation_0-auc:0.711324\tvalidation_1-auc:0.654642\n",
      "[20]\tvalidation_0-auc:0.712848\tvalidation_1-auc:0.655176\n",
      "[21]\tvalidation_0-auc:0.716789\tvalidation_1-auc:0.656166\n",
      "[22]\tvalidation_0-auc:0.720853\tvalidation_1-auc:0.656945\n",
      "[23]\tvalidation_0-auc:0.724915\tvalidation_1-auc:0.658481\n",
      "[24]\tvalidation_0-auc:0.727958\tvalidation_1-auc:0.658461\n",
      "[25]\tvalidation_0-auc:0.731406\tvalidation_1-auc:0.65964\n",
      "[26]\tvalidation_0-auc:0.733962\tvalidation_1-auc:0.659944\n",
      "[27]\tvalidation_0-auc:0.73748\tvalidation_1-auc:0.66021\n",
      "[28]\tvalidation_0-auc:0.741726\tvalidation_1-auc:0.661255\n",
      "[29]\tvalidation_0-auc:0.743904\tvalidation_1-auc:0.66177\n",
      "[30]\tvalidation_0-auc:0.746988\tvalidation_1-auc:0.661962\n",
      "[31]\tvalidation_0-auc:0.751247\tvalidation_1-auc:0.662806\n",
      "[32]\tvalidation_0-auc:0.754249\tvalidation_1-auc:0.663764\n",
      "[33]\tvalidation_0-auc:0.755452\tvalidation_1-auc:0.664038\n",
      "[34]\tvalidation_0-auc:0.75836\tvalidation_1-auc:0.664477\n",
      "[35]\tvalidation_0-auc:0.76079\tvalidation_1-auc:0.664733\n",
      "[36]\tvalidation_0-auc:0.763135\tvalidation_1-auc:0.664994\n",
      "[37]\tvalidation_0-auc:0.765241\tvalidation_1-auc:0.665278\n",
      "[38]\tvalidation_0-auc:0.768625\tvalidation_1-auc:0.666649\n",
      "[39]\tvalidation_0-auc:0.772936\tvalidation_1-auc:0.667711\n",
      "[40]\tvalidation_0-auc:0.776355\tvalidation_1-auc:0.667761\n",
      "[41]\tvalidation_0-auc:0.778424\tvalidation_1-auc:0.667609\n",
      "[42]\tvalidation_0-auc:0.780838\tvalidation_1-auc:0.667436\n",
      "[43]\tvalidation_0-auc:0.783035\tvalidation_1-auc:0.667918\n",
      "[44]\tvalidation_0-auc:0.785454\tvalidation_1-auc:0.667409\n",
      "[45]\tvalidation_0-auc:0.788625\tvalidation_1-auc:0.667802\n",
      "[46]\tvalidation_0-auc:0.790757\tvalidation_1-auc:0.668376\n",
      "[47]\tvalidation_0-auc:0.794531\tvalidation_1-auc:0.668821\n",
      "[48]\tvalidation_0-auc:0.796759\tvalidation_1-auc:0.669327\n",
      "[49]\tvalidation_0-auc:0.798605\tvalidation_1-auc:0.669084\n",
      "[50]\tvalidation_0-auc:0.800046\tvalidation_1-auc:0.669293\n",
      "[51]\tvalidation_0-auc:0.802307\tvalidation_1-auc:0.669492\n",
      "[52]\tvalidation_0-auc:0.803198\tvalidation_1-auc:0.669639\n",
      "[53]\tvalidation_0-auc:0.804916\tvalidation_1-auc:0.669551\n",
      "[54]\tvalidation_0-auc:0.805548\tvalidation_1-auc:0.669586\n",
      "[55]\tvalidation_0-auc:0.806959\tvalidation_1-auc:0.669938\n",
      "[56]\tvalidation_0-auc:0.808054\tvalidation_1-auc:0.669907\n",
      "[57]\tvalidation_0-auc:0.809473\tvalidation_1-auc:0.669707\n",
      "[58]\tvalidation_0-auc:0.811065\tvalidation_1-auc:0.669594\n",
      "[59]\tvalidation_0-auc:0.81439\tvalidation_1-auc:0.670129\n",
      "[60]\tvalidation_0-auc:0.816338\tvalidation_1-auc:0.670519\n",
      "[61]\tvalidation_0-auc:0.818015\tvalidation_1-auc:0.670196\n",
      "[62]\tvalidation_0-auc:0.819165\tvalidation_1-auc:0.670117\n",
      "[63]\tvalidation_0-auc:0.820647\tvalidation_1-auc:0.669853\n",
      "[64]\tvalidation_0-auc:0.822467\tvalidation_1-auc:0.669765\n",
      "[65]\tvalidation_0-auc:0.825098\tvalidation_1-auc:0.669796\n",
      "[66]\tvalidation_0-auc:0.826223\tvalidation_1-auc:0.67018\n",
      "[67]\tvalidation_0-auc:0.828119\tvalidation_1-auc:0.670051\n",
      "[68]\tvalidation_0-auc:0.829815\tvalidation_1-auc:0.669733\n",
      "[69]\tvalidation_0-auc:0.830776\tvalidation_1-auc:0.669387\n",
      "[70]\tvalidation_0-auc:0.831318\tvalidation_1-auc:0.669188\n",
      "[71]\tvalidation_0-auc:0.832086\tvalidation_1-auc:0.669189\n",
      "[72]\tvalidation_0-auc:0.833664\tvalidation_1-auc:0.669341\n",
      "[73]\tvalidation_0-auc:0.835124\tvalidation_1-auc:0.669531\n",
      "[74]\tvalidation_0-auc:0.835579\tvalidation_1-auc:0.669491\n",
      "[75]\tvalidation_0-auc:0.836309\tvalidation_1-auc:0.669328\n",
      "[76]\tvalidation_0-auc:0.837616\tvalidation_1-auc:0.669463\n",
      "[77]\tvalidation_0-auc:0.838338\tvalidation_1-auc:0.669646\n",
      "[78]\tvalidation_0-auc:0.839252\tvalidation_1-auc:0.6699\n",
      "[79]\tvalidation_0-auc:0.839915\tvalidation_1-auc:0.670114\n",
      "[80]\tvalidation_0-auc:0.840978\tvalidation_1-auc:0.670259\n",
      "[81]\tvalidation_0-auc:0.843036\tvalidation_1-auc:0.669905\n",
      "[82]\tvalidation_0-auc:0.844359\tvalidation_1-auc:0.669637\n",
      "[83]\tvalidation_0-auc:0.845388\tvalidation_1-auc:0.669263\n",
      "[84]\tvalidation_0-auc:0.846652\tvalidation_1-auc:0.669021\n",
      "[85]\tvalidation_0-auc:0.848133\tvalidation_1-auc:0.669141\n",
      "[86]\tvalidation_0-auc:0.849653\tvalidation_1-auc:0.669083\n",
      "[87]\tvalidation_0-auc:0.850843\tvalidation_1-auc:0.669375\n",
      "[88]\tvalidation_0-auc:0.85131\tvalidation_1-auc:0.669492\n",
      "[89]\tvalidation_0-auc:0.85213\tvalidation_1-auc:0.669389\n",
      "[90]\tvalidation_0-auc:0.853535\tvalidation_1-auc:0.669398\n",
      "[91]\tvalidation_0-auc:0.854177\tvalidation_1-auc:0.669431\n",
      "[92]\tvalidation_0-auc:0.856105\tvalidation_1-auc:0.669298\n",
      "[93]\tvalidation_0-auc:0.856714\tvalidation_1-auc:0.669181\n",
      "[94]\tvalidation_0-auc:0.857613\tvalidation_1-auc:0.669123\n",
      "[95]\tvalidation_0-auc:0.859057\tvalidation_1-auc:0.668739\n",
      "[96]\tvalidation_0-auc:0.859906\tvalidation_1-auc:0.668896\n",
      "[97]\tvalidation_0-auc:0.861501\tvalidation_1-auc:0.668674\n",
      "[98]\tvalidation_0-auc:0.862395\tvalidation_1-auc:0.668553\n",
      "[99]\tvalidation_0-auc:0.863559\tvalidation_1-auc:0.668538\n",
      "[100]\tvalidation_0-auc:0.864455\tvalidation_1-auc:0.66868\n",
      "[101]\tvalidation_0-auc:0.866018\tvalidation_1-auc:0.668754\n",
      "[102]\tvalidation_0-auc:0.866872\tvalidation_1-auc:0.668845\n",
      "[103]\tvalidation_0-auc:0.867467\tvalidation_1-auc:0.668786\n",
      "[104]\tvalidation_0-auc:0.868118\tvalidation_1-auc:0.668405\n",
      "[105]\tvalidation_0-auc:0.868338\tvalidation_1-auc:0.668882\n",
      "[106]\tvalidation_0-auc:0.869051\tvalidation_1-auc:0.668994\n",
      "[107]\tvalidation_0-auc:0.869622\tvalidation_1-auc:0.669277\n",
      "[108]\tvalidation_0-auc:0.870527\tvalidation_1-auc:0.668918\n",
      "[109]\tvalidation_0-auc:0.871051\tvalidation_1-auc:0.669162\n",
      "[110]\tvalidation_0-auc:0.87184\tvalidation_1-auc:0.669169\n",
      "[111]\tvalidation_0-auc:0.872979\tvalidation_1-auc:0.668989\n",
      "[112]\tvalidation_0-auc:0.873952\tvalidation_1-auc:0.669005\n",
      "[113]\tvalidation_0-auc:0.874199\tvalidation_1-auc:0.668953\n",
      "[114]\tvalidation_0-auc:0.875764\tvalidation_1-auc:0.668442\n",
      "[115]\tvalidation_0-auc:0.876455\tvalidation_1-auc:0.668508\n",
      "[116]\tvalidation_0-auc:0.877206\tvalidation_1-auc:0.668246\n",
      "[117]\tvalidation_0-auc:0.877968\tvalidation_1-auc:0.667958\n",
      "[118]\tvalidation_0-auc:0.878353\tvalidation_1-auc:0.668122\n",
      "[119]\tvalidation_0-auc:0.878685\tvalidation_1-auc:0.668075\n",
      "[120]\tvalidation_0-auc:0.879032\tvalidation_1-auc:0.668025\n",
      "[121]\tvalidation_0-auc:0.879674\tvalidation_1-auc:0.668052\n",
      "[122]\tvalidation_0-auc:0.880606\tvalidation_1-auc:0.668016\n",
      "[123]\tvalidation_0-auc:0.881823\tvalidation_1-auc:0.668079\n",
      "[124]\tvalidation_0-auc:0.883119\tvalidation_1-auc:0.668222\n",
      "[125]\tvalidation_0-auc:0.883979\tvalidation_1-auc:0.668105\n",
      "[126]\tvalidation_0-auc:0.885335\tvalidation_1-auc:0.66821\n",
      "[127]\tvalidation_0-auc:0.886373\tvalidation_1-auc:0.667958\n",
      "[128]\tvalidation_0-auc:0.887666\tvalidation_1-auc:0.667634\n",
      "[129]\tvalidation_0-auc:0.888047\tvalidation_1-auc:0.667596\n",
      "[130]\tvalidation_0-auc:0.888501\tvalidation_1-auc:0.66733\n",
      "[131]\tvalidation_0-auc:0.889127\tvalidation_1-auc:0.66732\n",
      "[132]\tvalidation_0-auc:0.890066\tvalidation_1-auc:0.666948\n",
      "[133]\tvalidation_0-auc:0.890328\tvalidation_1-auc:0.666879\n",
      "[134]\tvalidation_0-auc:0.890782\tvalidation_1-auc:0.666912\n",
      "[135]\tvalidation_0-auc:0.891817\tvalidation_1-auc:0.666703\n",
      "[136]\tvalidation_0-auc:0.892533\tvalidation_1-auc:0.666529\n",
      "[137]\tvalidation_0-auc:0.893985\tvalidation_1-auc:0.666536\n",
      "[138]\tvalidation_0-auc:0.894464\tvalidation_1-auc:0.666679\n",
      "[139]\tvalidation_0-auc:0.895043\tvalidation_1-auc:0.666533\n",
      "[140]\tvalidation_0-auc:0.895753\tvalidation_1-auc:0.666688\n",
      "[141]\tvalidation_0-auc:0.896102\tvalidation_1-auc:0.666941\n",
      "[142]\tvalidation_0-auc:0.896777\tvalidation_1-auc:0.666898\n",
      "[143]\tvalidation_0-auc:0.898011\tvalidation_1-auc:0.666678\n"
     ]
    },
    {
     "name": "stdout",
     "output_type": "stream",
     "text": [
      "[144]\tvalidation_0-auc:0.898497\tvalidation_1-auc:0.666468\n",
      "[145]\tvalidation_0-auc:0.898782\tvalidation_1-auc:0.666482\n",
      "[146]\tvalidation_0-auc:0.899301\tvalidation_1-auc:0.666239\n",
      "[147]\tvalidation_0-auc:0.899811\tvalidation_1-auc:0.66614\n",
      "[148]\tvalidation_0-auc:0.899921\tvalidation_1-auc:0.666287\n",
      "[149]\tvalidation_0-auc:0.900232\tvalidation_1-auc:0.666201\n",
      "[150]\tvalidation_0-auc:0.901535\tvalidation_1-auc:0.666242\n",
      "[151]\tvalidation_0-auc:0.902541\tvalidation_1-auc:0.666316\n",
      "[152]\tvalidation_0-auc:0.903205\tvalidation_1-auc:0.666271\n",
      "[153]\tvalidation_0-auc:0.903486\tvalidation_1-auc:0.666313\n",
      "[154]\tvalidation_0-auc:0.90395\tvalidation_1-auc:0.666177\n",
      "[155]\tvalidation_0-auc:0.904459\tvalidation_1-auc:0.666139\n",
      "[156]\tvalidation_0-auc:0.905026\tvalidation_1-auc:0.666276\n",
      "[157]\tvalidation_0-auc:0.905937\tvalidation_1-auc:0.666252\n",
      "[158]\tvalidation_0-auc:0.9067\tvalidation_1-auc:0.666315\n",
      "[159]\tvalidation_0-auc:0.907293\tvalidation_1-auc:0.666581\n",
      "[160]\tvalidation_0-auc:0.907782\tvalidation_1-auc:0.666598\n",
      "[161]\tvalidation_0-auc:0.908566\tvalidation_1-auc:0.666477\n",
      "[162]\tvalidation_0-auc:0.908747\tvalidation_1-auc:0.666528\n",
      "[163]\tvalidation_0-auc:0.909241\tvalidation_1-auc:0.666648\n",
      "[164]\tvalidation_0-auc:0.909907\tvalidation_1-auc:0.666646\n",
      "[165]\tvalidation_0-auc:0.910176\tvalidation_1-auc:0.666561\n",
      "[166]\tvalidation_0-auc:0.910709\tvalidation_1-auc:0.666251\n",
      "[167]\tvalidation_0-auc:0.911154\tvalidation_1-auc:0.666243\n",
      "[168]\tvalidation_0-auc:0.912164\tvalidation_1-auc:0.665901\n",
      "[169]\tvalidation_0-auc:0.912695\tvalidation_1-auc:0.665801\n",
      "[170]\tvalidation_0-auc:0.913014\tvalidation_1-auc:0.665799\n",
      "[171]\tvalidation_0-auc:0.913438\tvalidation_1-auc:0.665647\n",
      "[172]\tvalidation_0-auc:0.913945\tvalidation_1-auc:0.665447\n",
      "[173]\tvalidation_0-auc:0.914982\tvalidation_1-auc:0.665337\n",
      "[174]\tvalidation_0-auc:0.915801\tvalidation_1-auc:0.665108\n",
      "[175]\tvalidation_0-auc:0.916433\tvalidation_1-auc:0.664944\n",
      "[176]\tvalidation_0-auc:0.917048\tvalidation_1-auc:0.664692\n",
      "[177]\tvalidation_0-auc:0.917512\tvalidation_1-auc:0.664746\n",
      "[178]\tvalidation_0-auc:0.917884\tvalidation_1-auc:0.664671\n",
      "[179]\tvalidation_0-auc:0.918499\tvalidation_1-auc:0.664578\n",
      "[180]\tvalidation_0-auc:0.918627\tvalidation_1-auc:0.66435\n",
      "[181]\tvalidation_0-auc:0.918856\tvalidation_1-auc:0.6643\n",
      "[182]\tvalidation_0-auc:0.919118\tvalidation_1-auc:0.664099\n",
      "[183]\tvalidation_0-auc:0.919469\tvalidation_1-auc:0.664288\n",
      "[184]\tvalidation_0-auc:0.919977\tvalidation_1-auc:0.664251\n",
      "[185]\tvalidation_0-auc:0.920813\tvalidation_1-auc:0.664001\n",
      "[186]\tvalidation_0-auc:0.921631\tvalidation_1-auc:0.663855\n",
      "[187]\tvalidation_0-auc:0.922395\tvalidation_1-auc:0.663836\n",
      "[188]\tvalidation_0-auc:0.923287\tvalidation_1-auc:0.663779\n",
      "[189]\tvalidation_0-auc:0.923401\tvalidation_1-auc:0.663738\n",
      "[190]\tvalidation_0-auc:0.923878\tvalidation_1-auc:0.663837\n",
      "[191]\tvalidation_0-auc:0.92468\tvalidation_1-auc:0.663695\n",
      "[192]\tvalidation_0-auc:0.925203\tvalidation_1-auc:0.663533\n",
      "[193]\tvalidation_0-auc:0.92603\tvalidation_1-auc:0.66343\n",
      "[194]\tvalidation_0-auc:0.92679\tvalidation_1-auc:0.663346\n",
      "[195]\tvalidation_0-auc:0.927539\tvalidation_1-auc:0.663143\n",
      "[196]\tvalidation_0-auc:0.927844\tvalidation_1-auc:0.662866\n",
      "[197]\tvalidation_0-auc:0.928665\tvalidation_1-auc:0.662895\n",
      "[198]\tvalidation_0-auc:0.929042\tvalidation_1-auc:0.662767\n",
      "[199]\tvalidation_0-auc:0.929819\tvalidation_1-auc:0.662776\n",
      "[200]\tvalidation_0-auc:0.930245\tvalidation_1-auc:0.662622\n",
      "[201]\tvalidation_0-auc:0.930656\tvalidation_1-auc:0.662618\n",
      "[202]\tvalidation_0-auc:0.931554\tvalidation_1-auc:0.662459\n",
      "[203]\tvalidation_0-auc:0.932453\tvalidation_1-auc:0.662293\n",
      "[204]\tvalidation_0-auc:0.93301\tvalidation_1-auc:0.662065\n",
      "[205]\tvalidation_0-auc:0.933621\tvalidation_1-auc:0.662001\n",
      "[206]\tvalidation_0-auc:0.934099\tvalidation_1-auc:0.661933\n",
      "[207]\tvalidation_0-auc:0.934362\tvalidation_1-auc:0.661967\n",
      "[208]\tvalidation_0-auc:0.934916\tvalidation_1-auc:0.661781\n",
      "[209]\tvalidation_0-auc:0.93519\tvalidation_1-auc:0.661589\n",
      "[210]\tvalidation_0-auc:0.935761\tvalidation_1-auc:0.661586\n",
      "[211]\tvalidation_0-auc:0.936373\tvalidation_1-auc:0.661431\n",
      "[212]\tvalidation_0-auc:0.936864\tvalidation_1-auc:0.661255\n",
      "[213]\tvalidation_0-auc:0.937324\tvalidation_1-auc:0.660991\n",
      "[214]\tvalidation_0-auc:0.937996\tvalidation_1-auc:0.660592\n",
      "[215]\tvalidation_0-auc:0.938209\tvalidation_1-auc:0.660389\n",
      "[216]\tvalidation_0-auc:0.938704\tvalidation_1-auc:0.660249\n",
      "[217]\tvalidation_0-auc:0.939099\tvalidation_1-auc:0.660022\n",
      "[218]\tvalidation_0-auc:0.939388\tvalidation_1-auc:0.659708\n",
      "[219]\tvalidation_0-auc:0.939992\tvalidation_1-auc:0.659662\n",
      "[220]\tvalidation_0-auc:0.940346\tvalidation_1-auc:0.659584\n",
      "[221]\tvalidation_0-auc:0.941105\tvalidation_1-auc:0.659282\n",
      "[222]\tvalidation_0-auc:0.941427\tvalidation_1-auc:0.65939\n",
      "[223]\tvalidation_0-auc:0.942228\tvalidation_1-auc:0.659129\n",
      "[224]\tvalidation_0-auc:0.942847\tvalidation_1-auc:0.659075\n",
      "[225]\tvalidation_0-auc:0.943707\tvalidation_1-auc:0.658898\n",
      "[226]\tvalidation_0-auc:0.944119\tvalidation_1-auc:0.658849\n",
      "[227]\tvalidation_0-auc:0.944328\tvalidation_1-auc:0.65872\n",
      "[228]\tvalidation_0-auc:0.944715\tvalidation_1-auc:0.658734\n",
      "[229]\tvalidation_0-auc:0.945328\tvalidation_1-auc:0.658573\n",
      "[230]\tvalidation_0-auc:0.945646\tvalidation_1-auc:0.658527\n",
      "[231]\tvalidation_0-auc:0.945995\tvalidation_1-auc:0.658428\n",
      "[232]\tvalidation_0-auc:0.94618\tvalidation_1-auc:0.658409\n",
      "[233]\tvalidation_0-auc:0.946656\tvalidation_1-auc:0.658214\n",
      "[234]\tvalidation_0-auc:0.947077\tvalidation_1-auc:0.658317\n",
      "[235]\tvalidation_0-auc:0.947302\tvalidation_1-auc:0.658331\n",
      "[236]\tvalidation_0-auc:0.947358\tvalidation_1-auc:0.658375\n",
      "[237]\tvalidation_0-auc:0.947812\tvalidation_1-auc:0.658605\n",
      "[238]\tvalidation_0-auc:0.948098\tvalidation_1-auc:0.658526\n",
      "[239]\tvalidation_0-auc:0.948263\tvalidation_1-auc:0.658527\n",
      "[240]\tvalidation_0-auc:0.948402\tvalidation_1-auc:0.658332\n",
      "[241]\tvalidation_0-auc:0.948915\tvalidation_1-auc:0.658459\n",
      "[242]\tvalidation_0-auc:0.949363\tvalidation_1-auc:0.658244\n",
      "[243]\tvalidation_0-auc:0.949805\tvalidation_1-auc:0.657978\n",
      "[244]\tvalidation_0-auc:0.95051\tvalidation_1-auc:0.657816\n",
      "[245]\tvalidation_0-auc:0.950877\tvalidation_1-auc:0.65792\n",
      "[246]\tvalidation_0-auc:0.951338\tvalidation_1-auc:0.657578\n",
      "[247]\tvalidation_0-auc:0.951581\tvalidation_1-auc:0.657639\n",
      "[248]\tvalidation_0-auc:0.951751\tvalidation_1-auc:0.657422\n",
      "[249]\tvalidation_0-auc:0.952105\tvalidation_1-auc:0.657387\n",
      "[250]\tvalidation_0-auc:0.952176\tvalidation_1-auc:0.657319\n",
      "[251]\tvalidation_0-auc:0.952502\tvalidation_1-auc:0.657338\n",
      "[252]\tvalidation_0-auc:0.952891\tvalidation_1-auc:0.657177\n",
      "[253]\tvalidation_0-auc:0.953154\tvalidation_1-auc:0.657011\n",
      "[254]\tvalidation_0-auc:0.953428\tvalidation_1-auc:0.656886\n",
      "[255]\tvalidation_0-auc:0.9541\tvalidation_1-auc:0.657029\n",
      "[256]\tvalidation_0-auc:0.954408\tvalidation_1-auc:0.657025\n",
      "[257]\tvalidation_0-auc:0.954815\tvalidation_1-auc:0.656894\n",
      "[258]\tvalidation_0-auc:0.955137\tvalidation_1-auc:0.657077\n",
      "[259]\tvalidation_0-auc:0.955579\tvalidation_1-auc:0.65699\n",
      "[260]\tvalidation_0-auc:0.955936\tvalidation_1-auc:0.656969\n",
      "[261]\tvalidation_0-auc:0.956138\tvalidation_1-auc:0.656912\n",
      "[262]\tvalidation_0-auc:0.956551\tvalidation_1-auc:0.656981\n",
      "[263]\tvalidation_0-auc:0.956924\tvalidation_1-auc:0.656948\n",
      "[264]\tvalidation_0-auc:0.957183\tvalidation_1-auc:0.657023\n",
      "[265]\tvalidation_0-auc:0.957611\tvalidation_1-auc:0.656728\n",
      "[266]\tvalidation_0-auc:0.957989\tvalidation_1-auc:0.65661\n",
      "[267]\tvalidation_0-auc:0.958301\tvalidation_1-auc:0.656293\n",
      "[268]\tvalidation_0-auc:0.958596\tvalidation_1-auc:0.656128\n",
      "[269]\tvalidation_0-auc:0.959164\tvalidation_1-auc:0.655808\n",
      "[270]\tvalidation_0-auc:0.959492\tvalidation_1-auc:0.655827\n",
      "[271]\tvalidation_0-auc:0.95971\tvalidation_1-auc:0.655863\n",
      "[272]\tvalidation_0-auc:0.959805\tvalidation_1-auc:0.655969\n",
      "[273]\tvalidation_0-auc:0.960275\tvalidation_1-auc:0.655423\n",
      "[274]\tvalidation_0-auc:0.960595\tvalidation_1-auc:0.655388\n",
      "[275]\tvalidation_0-auc:0.960991\tvalidation_1-auc:0.65548\n",
      "[276]\tvalidation_0-auc:0.961147\tvalidation_1-auc:0.655555\n",
      "[277]\tvalidation_0-auc:0.96153\tvalidation_1-auc:0.655333\n",
      "[278]\tvalidation_0-auc:0.961679\tvalidation_1-auc:0.655357\n",
      "[279]\tvalidation_0-auc:0.96208\tvalidation_1-auc:0.655432\n",
      "[280]\tvalidation_0-auc:0.962307\tvalidation_1-auc:0.655514\n",
      "[281]\tvalidation_0-auc:0.962619\tvalidation_1-auc:0.655481\n",
      "[282]\tvalidation_0-auc:0.962793\tvalidation_1-auc:0.655399\n",
      "[283]\tvalidation_0-auc:0.963264\tvalidation_1-auc:0.655177\n",
      "[284]\tvalidation_0-auc:0.963747\tvalidation_1-auc:0.655234\n",
      "[285]\tvalidation_0-auc:0.963847\tvalidation_1-auc:0.655244\n"
     ]
    },
    {
     "name": "stdout",
     "output_type": "stream",
     "text": [
      "[286]\tvalidation_0-auc:0.963987\tvalidation_1-auc:0.655211\n",
      "[287]\tvalidation_0-auc:0.964145\tvalidation_1-auc:0.655144\n",
      "[288]\tvalidation_0-auc:0.964325\tvalidation_1-auc:0.654963\n",
      "[289]\tvalidation_0-auc:0.964697\tvalidation_1-auc:0.655095\n",
      "[290]\tvalidation_0-auc:0.96506\tvalidation_1-auc:0.65505\n",
      "[291]\tvalidation_0-auc:0.965325\tvalidation_1-auc:0.654812\n",
      "[292]\tvalidation_0-auc:0.965674\tvalidation_1-auc:0.654587\n",
      "[293]\tvalidation_0-auc:0.965782\tvalidation_1-auc:0.654519\n",
      "[294]\tvalidation_0-auc:0.96614\tvalidation_1-auc:0.654424\n",
      "[295]\tvalidation_0-auc:0.966402\tvalidation_1-auc:0.65422\n",
      "[296]\tvalidation_0-auc:0.966606\tvalidation_1-auc:0.654167\n",
      "[297]\tvalidation_0-auc:0.966706\tvalidation_1-auc:0.654026\n",
      "[298]\tvalidation_0-auc:0.966977\tvalidation_1-auc:0.654032\n",
      "[299]\tvalidation_0-auc:0.967116\tvalidation_1-auc:0.654259\n",
      "The program took 53.94175577163696 seconds.\n"
     ]
    }
   ],
   "source": [
    "start = time.time()\n",
    "bst.fit(X_train, y_train, \n",
    "        sample_weight=None, \n",
    "        eval_set=[(X_train, y_train), (X_test, y_test)], \n",
    "        eval_metric='auc', \n",
    "        early_stopping_rounds=None, \n",
    "        verbose=True, \n",
    "        xgb_model=None, \n",
    "        sample_weight_eval_set=None)\n",
    "end = time.time()\n",
    "print('The program took %s seconds.' % (end-start))"
   ]
  },
  {
   "cell_type": "code",
   "execution_count": 298,
   "metadata": {},
   "outputs": [],
   "source": [
    "preds = bst.predict(X_test)\n",
    "accuracy_score(y_test, preds)"
   ]
  },
  {
   "cell_type": "code",
   "execution_count": 302,
   "metadata": {},
   "outputs": [],
   "source": [
    "prob = bst.predict_proba(test_features)\n",
    "alitest.drop(columns='prob', inplace=True)\n",
    "alitest.insert(2, 'prob', prob[:,1])\n",
    "alitest.to_csv('data/submission_1230_xgboost_n100_maxdepth8_lr0.1.csv', index=False)"
   ]
  },
  {
   "cell_type": "markdown",
   "metadata": {},
   "source": [
    "#### Cross validation"
   ]
  },
  {
   "cell_type": "code",
   "execution_count": 308,
   "metadata": {},
   "outputs": [],
   "source": [
    "import matplotlib.pyplot as plt\n",
    "from sklearn.model_selection import validation_curve\n",
    "from sklearn.model_selection import StratifiedKFold"
   ]
  },
  {
   "cell_type": "code",
   "execution_count": 311,
   "metadata": {},
   "outputs": [
    {
     "name": "stderr",
     "output_type": "stream",
     "text": [
      "[Parallel(n_jobs=7)]: Using backend LokyBackend with 7 concurrent workers.\n",
      "[Parallel(n_jobs=7)]: Done  50 out of 100 | elapsed: 11.2min remaining: 11.2min\n",
      "[Parallel(n_jobs=7)]: Done 100 out of 100 | elapsed: 23.0min finished\n"
     ]
    }
   ],
   "source": [
    "# cross validation on n_estimators\n",
    "cv = StratifiedKFold(n_splits=10, shuffle=True, random_state=123)\n",
    "n_estimators_range = np.linspace(1, 200, 10).astype('int')\n",
    "train_scores, test_scores = validation_curve(\n",
    "    xgb.XGBClassifier(learning_rate= 0.1, \n",
    "                   objective= 'binary:logistic',\n",
    "                   booster='gbtree',\n",
    "                   tree_method='auto',\n",
    "                   gamma=0.1,  # 用于控制是否后剪枝的参数,越大越保守，一般0.1、0.2这样子。\n",
    "                   max_depth=8, # 构建树的深度，越大越容易过拟合\n",
    "                   reg_lambda=2,  # 控制模型复杂度的权重值的L2正则化项参数，参数越大，模型越不容易过拟合。\n",
    "                   subsample=0.7, # 随机采样训练样本\n",
    "                   colsample_bytree=0.7, # 生成树时进行的列采样\n",
    "                   min_child_weight=1, \n",
    "                    # 这个参数默认是 1，是每个叶子里面 h 的和至少是多少，对正负样本不均衡时的 0-1 分类而言\n",
    "                    # 假设 h 在 0.01 附近，min_child_weight 为 1 意味着叶子节点中最少需要包含 100 个样本。\n",
    "                    # 这个参数非常影响结果，控制叶子节点中二阶导的和的最小值，该参数值越小，越容易 overfitting。 \n",
    "                   verbosity=2 ,#设置成1则没有运行信息输出，最好是设置为0.\n",
    "                   seed=1000,\n",
    "                   n_jobs=7,# cpu 线程数\n",
    "                  ),\n",
    "    train_features, train_data['label'],\n",
    "    param_name = 'n_estimators',\n",
    "    param_range = n_estimators_range,\n",
    "    cv=cv,\n",
    "    scoring='roc_auc',\n",
    "    n_jobs=7,\n",
    "    verbose=2\n",
    ")"
   ]
  },
  {
   "cell_type": "code",
   "execution_count": 315,
   "metadata": {},
   "outputs": [],
   "source": [
    "np.savez('model/xgboost_cross_validation_results_lr0.1_8maxdepth_1230.npz', \n",
    "         train_scores = train_scores,\n",
    "         test_scores = test_scores,\n",
    "         train_duration = '23min'\n",
    "        )"
   ]
  },
  {
   "cell_type": "code",
   "execution_count": 317,
   "metadata": {},
   "outputs": [
    {
     "data": {
      "image/png": "[encoded data removed]",
      "text/plain": [
       "<Figure size 1152x648 with 1 Axes>"
      ]
     },
     "metadata": {
      "needs_background": "light"
     },
     "output_type": "display_data"
    },
    {
     "name": "stdout",
     "output_type": "stream",
     "text": [
      "Best cross-validation result (0.68) obtained for 67 trees\n"
     ]
    }
   ],
   "source": [
    "# plotting\n",
    "train_scores_mean = np.mean(train_scores, axis=1)\n",
    "train_scores_std = np.std(train_scores, axis=1)\n",
    "test_scores_mean = np.mean(test_scores, axis=1)\n",
    "test_scores_std = np.std(test_scores, axis=1)\n",
    "\n",
    "plt.figure(figsize=(16, 9))\n",
    "plt.title(\"Validation Curve with XGBoost\")\n",
    "plt.xlabel(r\"n_estimators\")\n",
    "plt.ylabel(\"ROC_AUC\")\n",
    "plt.ylim(0.6, 1.0)\n",
    "\n",
    "plt.plot(n_estimators_range, train_scores_mean, label=\"Training score\",\n",
    "             color=\"darkorange\")\n",
    "plt.plot(n_estimators_range, test_scores_mean, label=\"Cross-validation score\",\n",
    "             color=\"navy\")\n",
    "plt.fill_between(n_estimators_range, \n",
    "                 train_scores_mean - train_scores_std,\n",
    "                 train_scores_mean + train_scores_std, \n",
    "                 alpha=0.2,\n",
    "                 color=\"darkorange\")\n",
    "plt.fill_between(n_estimators_range, \n",
    "                 test_scores_mean - test_scores_std,\n",
    "                 test_scores_mean + test_scores_std, \n",
    "                 alpha=0.2,\n",
    "                 color=\"navy\")\n",
    "plt.legend(loc=\"best\")\n",
    "plt.show()\n",
    "\n",
    "i = np.argmax(test_scores_mean)\n",
    "print(\"Best cross-validation result ({0:.2f}) obtained for {1} trees\".format(test_scores_mean[i], \n",
    "                                                                             n_estimators_range[i]))"
   ]
  },
  {
   "cell_type": "code",
   "execution_count": 326,
   "metadata": {},
   "outputs": [
    {
     "name": "stderr",
     "output_type": "stream",
     "text": [
      "[Parallel(n_jobs=6)]: Using backend LokyBackend with 6 concurrent workers.\n",
      "[Parallel(n_jobs=6)]: Done  30 out of  60 | elapsed:  9.6min remaining:  9.6min\n"
     ]
    },
    {
     "name": "stdout",
     "output_type": "stream",
     "text": [
      "The program took 1126.4778690338135 seconds.\n"
     ]
    },
    {
     "name": "stderr",
     "output_type": "stream",
     "text": [
      "[Parallel(n_jobs=6)]: Done  60 out of  60 | elapsed: 18.8min finished\n"
     ]
    }
   ],
   "source": [
    "# cross validation on max_depth\n",
    "cv = StratifiedKFold(n_splits=10, shuffle=True, random_state=123)\n",
    "# max_depth = 5 6 7 8 9 10\n",
    "max_depth_range = np.linspace(5, 10, 6).astype('int')\n",
    "start = time.time()\n",
    "train_scores, test_scores = validation_curve(\n",
    "    xgb.XGBClassifier(learning_rate= 0.1, \n",
    "                    n_estimators=67, # 根据上面的cv结论\n",
    "                   objective= 'binary:logistic',\n",
    "                   booster='gbtree',\n",
    "                   tree_method='auto',\n",
    "                   gamma=0.1,  # 用于控制是否后剪枝的参数,越大越保守，一般0.1、0.2这样子。\n",
    "                   reg_lambda=2,  # 控制模型复杂度的权重值的L2正则化项参数，参数越大，模型越不容易过拟合。\n",
    "                   subsample=0.7, # 随机采样训练样本\n",
    "                   colsample_bytree=0.7, # 生成树时进行的列采样\n",
    "                   min_child_weight=1, \n",
    "                    # 这个参数默认是 1，是每个叶子里面 h 的和至少是多少，对正负样本不均衡时的 0-1 分类而言\n",
    "                    # 假设 h 在 0.01 附近，min_child_weight 为 1 意味着叶子节点中最少需要包含 100 个样本。\n",
    "                    # 这个参数非常影响结果，控制叶子节点中二阶导的和的最小值，该参数值越小，越容易 overfitting。 \n",
    "                   verbosity=2,\n",
    "                   seed=1000\n",
    "                  ),\n",
    "    train_features, train_data['label'],\n",
    "    param_name = 'max_depth',\n",
    "    param_range = max_depth_range,\n",
    "    cv=cv,\n",
    "    scoring='roc_auc',\n",
    "    n_jobs=6,\n",
    "    verbose=2\n",
    ")\n",
    "end = time.time()\n",
    "print('The program took %s seconds.' % (end-start))"
   ]
  },
  {
   "cell_type": "code",
   "execution_count": 327,
   "metadata": {},
   "outputs": [],
   "source": [
    "np.savez('model/xgboost_cross_validation_results_lr0.1_67n_1230.npz', \n",
    "         train_scores = train_scores,\n",
    "         test_scores = test_scores,\n",
    "         train_duration = '18.8min'\n",
    "        )"
   ]
  },
  {
   "cell_type": "code",
   "execution_count": 329,
   "metadata": {},
   "outputs": [
    {
     "data": {
      "image/png": "[encoded data removed]",
      "text/plain": [
       "<Figure size 1152x648 with 1 Axes>"
      ]
     },
     "metadata": {
      "needs_background": "light"
     },
     "output_type": "display_data"
    },
    {
     "name": "stdout",
     "output_type": "stream",
     "text": [
      "Best cross-validation result (0.68) obtained for 8 max_depth\n"
     ]
    }
   ],
   "source": [
    "# plotting\n",
    "train_scores_mean = np.mean(train_scores, axis=1)\n",
    "train_scores_std = np.std(train_scores, axis=1)\n",
    "test_scores_mean = np.mean(test_scores, axis=1)\n",
    "test_scores_std = np.std(test_scores, axis=1)\n",
    "\n",
    "plt.figure(figsize=(16, 9))\n",
    "plt.title(\"Validation Curve with XGBoost\")\n",
    "plt.xlabel(r\"max_depth\")\n",
    "plt.ylabel(\"ROC_AUC\")\n",
    "plt.ylim(0.6, 1.0)\n",
    "\n",
    "plt.plot(max_depth_range, train_scores_mean, label=\"Training score\",\n",
    "             color=\"darkorange\")\n",
    "plt.plot(max_depth_range, test_scores_mean, label=\"Cross-validation score\",\n",
    "             color=\"navy\")\n",
    "plt.fill_between(max_depth_range, \n",
    "                 train_scores_mean - train_scores_std,\n",
    "                 train_scores_mean + train_scores_std, \n",
    "                 alpha=0.2,\n",
    "                 color=\"darkorange\")\n",
    "plt.fill_between(max_depth_range, \n",
    "                 test_scores_mean - test_scores_std,\n",
    "                 test_scores_mean + test_scores_std, \n",
    "                 alpha=0.2,\n",
    "                 color=\"navy\")\n",
    "plt.legend(loc=\"best\")\n",
    "plt.show()\n",
    "\n",
    "i = np.argmax(test_scores_mean)\n",
    "print(\"Best cross-validation result ({0:.2f}) obtained for {1} max_depth\".format(test_scores_mean[i], \n",
    "                                                                                 max_depth_range[i]))"
   ]
  },
  {
   "cell_type": "code",
   "execution_count": 336,
   "metadata": {},
   "outputs": [
    {
     "name": "stderr",
     "output_type": "stream",
     "text": [
      "[Parallel(n_jobs=6)]: Using backend LokyBackend with 6 concurrent workers.\n",
      "[Parallel(n_jobs=6)]: Done   5 out of  10 | elapsed:  1.8min remaining:  1.8min\n"
     ]
    },
    {
     "name": "stdout",
     "output_type": "stream",
     "text": [
      "The program took 204.09365820884705 seconds.\n"
     ]
    },
    {
     "name": "stderr",
     "output_type": "stream",
     "text": [
      "[Parallel(n_jobs=6)]: Done  10 out of  10 | elapsed:  3.4min finished\n"
     ]
    }
   ],
   "source": [
    "# cross validation on learning_rate\n",
    "cv = StratifiedKFold(n_splits=10, shuffle=True, random_state=123)\n",
    "# learning_rate = 0.1 0.2 0.3 0.4 0.5\n",
    "# lr_range = [0.01, 0.05, 0.1, 0.2, 0.3, 0.4, 0.5]\n",
    "lr_range = [0.5]\n",
    "start = time.time()\n",
    "train_scores, test_scores = validation_curve(\n",
    "    xgb.XGBClassifier(max_depth= 8, #根据上面的cv结论\n",
    "                    n_estimators=67, # 根据上面的cv结论\n",
    "                   objective= 'binary:logistic',\n",
    "                   booster='gbtree',\n",
    "                   tree_method='auto',\n",
    "                   gamma=0.1,  # 用于控制是否后剪枝的参数,越大越保守，一般0.1、0.2这样子。\n",
    "                   reg_lambda=2,  # 控制模型复杂度的权重值的L2正则化项参数，参数越大，模型越不容易过拟合。\n",
    "                   subsample=0.7, # 随机采样训练样本\n",
    "                   colsample_bytree=0.7, # 生成树时进行的列采样\n",
    "                   min_child_weight=1, \n",
    "                    # 这个参数默认是 1，是每个叶子里面 h 的和至少是多少，对正负样本不均衡时的 0-1 分类而言\n",
    "                    # 假设 h 在 0.01 附近，min_child_weight 为 1 意味着叶子节点中最少需要包含 100 个样本。\n",
    "                    # 这个参数非常影响结果，控制叶子节点中二阶导的和的最小值，该参数值越小，越容易 overfitting。 \n",
    "                   verbosity=2,\n",
    "                   seed=1000\n",
    "                  ),\n",
    "    train_features, train_data['label'],\n",
    "    param_name = 'learning_rate',\n",
    "    param_range = lr_range,\n",
    "    cv=cv,\n",
    "    scoring='roc_auc',\n",
    "    n_jobs=6,\n",
    "    verbose=2\n",
    ")\n",
    "end = time.time()\n",
    "print('The program took %s seconds.' % (end-start))"
   ]
  },
  {
   "cell_type": "code",
   "execution_count": 332,
   "metadata": {},
   "outputs": [],
   "source": [
    "np.savez('model/xgboost_cross_validation_results_8maxdepth_67n_1230.npz', \n",
    "         train_scores = train_scores,\n",
    "         test_scores = test_scores,\n",
    "         train_duration = ''\n",
    "        )"
   ]
  },
  {
   "cell_type": "code",
   "execution_count": 333,
   "metadata": {},
   "outputs": [
    {
     "data": {
      "image/png": "[encoded data removed]",
      "text/plain": [
       "<Figure size 1152x648 with 1 Axes>"
      ]
     },
     "metadata": {
      "needs_background": "light"
     },
     "output_type": "display_data"
    },
    {
     "name": "stdout",
     "output_type": "stream",
     "text": [
      "Best cross-validation result (0.68) obtained for 0.1 max_depth\n"
     ]
    }
   ],
   "source": [
    "# plotting\n",
    "train_scores_mean = np.mean(train_scores, axis=1)\n",
    "train_scores_std = np.std(train_scores, axis=1)\n",
    "test_scores_mean = np.mean(test_scores, axis=1)\n",
    "test_scores_std = np.std(test_scores, axis=1)\n",
    "\n",
    "plt.figure(figsize=(16, 9))\n",
    "plt.title(\"Validation Curve with XGBoost\")\n",
    "plt.xlabel(r\"learning_rate\")\n",
    "plt.ylabel(\"ROC_AUC\")\n",
    "plt.ylim(0.6, 1.0)\n",
    "\n",
    "plt.plot(lr_range, train_scores_mean, label=\"Training score\",\n",
    "             color=\"darkorange\")\n",
    "plt.plot(lr_range, test_scores_mean, label=\"Cross-validation score\",\n",
    "             color=\"navy\")\n",
    "plt.fill_between(lr_range, \n",
    "                 train_scores_mean - train_scores_std,\n",
    "                 train_scores_mean + train_scores_std, \n",
    "                 alpha=0.2,\n",
    "                 color=\"darkorange\")\n",
    "plt.fill_between(lr_range, \n",
    "                 test_scores_mean - test_scores_std,\n",
    "                 test_scores_mean + test_scores_std, \n",
    "                 alpha=0.2,\n",
    "                 color=\"navy\")\n",
    "plt.legend(loc=\"best\")\n",
    "plt.show()\n",
    "\n",
    "i = np.argmax(test_scores_mean)\n",
    "print(\"Best cross-validation result ({0:.2f}) obtained for {1} max_depth\".format(test_scores_mean[i], \n",
    "                                                                                 lr_range[i]))"
   ]
  },
  {
   "cell_type": "code",
   "execution_count": 334,
   "metadata": {},
   "outputs": [
    {
     "data": {
      "text/plain": [
       "array([0.65356634, 0.66972497, 0.67808174, 0.66568732, 0.65226298,\n",
       "       0.63608784, 0.5       , 0.5166081 ])"
      ]
     },
     "execution_count": 334,
     "metadata": {},
     "output_type": "execute_result"
    }
   ],
   "source": [
    "test_scores_mean"
   ]
  },
  {
   "cell_type": "code",
   "execution_count": 335,
   "metadata": {},
   "outputs": [
    {
     "data": {
      "text/plain": [
       "[0.01, 0.05, 0.1, 0.2, 0.3, 0.4, 0, 5]"
      ]
     },
     "execution_count": 335,
     "metadata": {},
     "output_type": "execute_result"
    }
   ],
   "source": [
    "lr_range"
   ]
  },
  {
   "cell_type": "code",
   "execution_count": null,
   "metadata": {},
   "outputs": [],
   "source": []
  }
 ],
 "metadata": {
  "kernelspec": {
   "display_name": "Python 3",
   "language": "python",
   "name": "python3"
  },
  "language_info": {
   "codemirror_mode": {
    "name": "ipython",
    "version": 3
   },
   "file_extension": ".py",
   "mimetype": "text/x-python",
   "name": "python",
   "nbconvert_exporter": "python",
   "pygments_lexer": "ipython3",
   "version": "3.5.6"
  }
 },
 "nbformat": 4,
 "nbformat_minor": 2
}
